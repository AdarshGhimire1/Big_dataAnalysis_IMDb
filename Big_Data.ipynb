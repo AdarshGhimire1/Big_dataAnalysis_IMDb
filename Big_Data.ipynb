{
 "cells": [
  {
   "cell_type": "code",
   "execution_count": 1,
   "id": "263e3c40",
   "metadata": {},
   "outputs": [],
   "source": [
    "import pymongo\n",
    "import pandas as pd\n",
    "import matplotlib.pyplot as plt\n",
    "import numpy as np\n",
    "import seaborn as sns\n",
    "\n",
    "from pyspark.sql import SparkSession\n",
    "from pyspark.sql.types import StructType, StructField, IntegerType, DoubleType, StringType\n",
    "from pyspark.sql.functions import isnull, isnan, sum, count, col, when, to_date, unix_timestamp"
   ]
  },
  {
   "cell_type": "code",
   "execution_count": 2,
   "id": "49829532",
   "metadata": {},
   "outputs": [],
   "source": [
    "spark = SparkSession.builder.appName(\"movie_metedata\").getOrCreate()"
   ]
  },
  {
   "cell_type": "code",
   "execution_count": 3,
   "id": "0aa79b45",
   "metadata": {},
   "outputs": [],
   "source": [
    "connection_config = {\"connect\":\"mongodb://localhost:27017\", \"database\" : \"IMDB\", \"collection\" : \"movie_metadata\"}\n",
    "\n",
    "class Mongo:\n",
    "    def __init__(self, connection_string, database, collection):\n",
    "        self.client = pymongo.MongoClient(connection_string)\n",
    "        self.db = self.client[database]\n",
    "        self.collection = self.db[collection]\n",
    "        \n",
    "    def getData(self):\n",
    "        rows = self.collection.find()\n",
    "        return rows\n",
    "    \n",
    "db = Mongo(connection_config[\"connect\"], connection_config[\"database\"], connection_config[\"collection\"])\n",
    "\n",
    "#getting data\n",
    "data = db.getData()"
   ]
  },
  {
   "cell_type": "code",
   "execution_count": 4,
   "id": "00aa5bc1",
   "metadata": {},
   "outputs": [],
   "source": [
    "schema = StructType(\n",
    "[\n",
    "    StructField(\"color\", StringType(), True),\n",
    "    StructField(\"director_name\", StringType(), True),\n",
    "    StructField(\"num_critic_for_reviews\", StringType(), True),\n",
    "    StructField(\"duration\", StringType(), True),\n",
    "    StructField(\"director_facebook_likes\", StringType(), True),\n",
    "    StructField(\"actor_3_facebook_likes\", StringType(), True),\n",
    "    StructField(\"actor_2_name\", StringType(), True),\n",
    "    StructField(\"actor_1_facebook_likes\", StringType(), True),\n",
    "    StructField(\"gross\", StringType(), True),\n",
    "    StructField(\"genres\", StringType(), True),\n",
    "    StructField(\"actor_1_name\", StringType(), True),\n",
    "    StructField(\"movie_title\", StringType(), True),\n",
    "    StructField(\"num_voted_users\", StringType(), True),\n",
    "    StructField(\"cast_total_facebook_likes\", StringType(), True),\n",
    "    StructField(\"actor_3_name\", StringType(), True),\n",
    "    StructField(\"facenumber_in_poster\", StringType(), True),\n",
    "    StructField(\"plot_keywords\", StringType(), True),\n",
    "    StructField(\"movie_imdb_link\", StringType(), True),\n",
    "    StructField(\"num_user_for_reviews\", StringType(), True),\n",
    "    StructField(\"language\", StringType(), True),\n",
    "    StructField(\"country\", StringType(), True),\n",
    "    StructField(\"content_rating\", StringType(), True),\n",
    "    StructField(\"budget\", StringType(), True),\n",
    "    StructField(\"title_year\", StringType(), True),\n",
    "    StructField(\"actor_2_facebook_likes\", StringType(), True),\n",
    "    StructField(\"imdb_score\", StringType(), True),\n",
    "    StructField(\"aspect_ratio\", StringType(), True),\n",
    "    StructField(\"movie_facebook_likes\", StringType(), True),\n",
    "    \n",
    "    \n",
    "])"
   ]
  },
  {
   "cell_type": "code",
   "execution_count": 5,
   "id": "9b935743",
   "metadata": {},
   "outputs": [
    {
     "name": "stdout",
     "output_type": "stream",
     "text": [
      "root\n",
      " |-- color: string (nullable = true)\n",
      " |-- director_name: string (nullable = true)\n",
      " |-- num_critic_for_reviews: string (nullable = true)\n",
      " |-- duration: string (nullable = true)\n",
      " |-- director_facebook_likes: string (nullable = true)\n",
      " |-- actor_3_facebook_likes: string (nullable = true)\n",
      " |-- actor_2_name: string (nullable = true)\n",
      " |-- actor_1_facebook_likes: string (nullable = true)\n",
      " |-- gross: string (nullable = true)\n",
      " |-- genres: string (nullable = true)\n",
      " |-- actor_1_name: string (nullable = true)\n",
      " |-- movie_title: string (nullable = true)\n",
      " |-- num_voted_users: string (nullable = true)\n",
      " |-- cast_total_facebook_likes: string (nullable = true)\n",
      " |-- actor_3_name: string (nullable = true)\n",
      " |-- facenumber_in_poster: string (nullable = true)\n",
      " |-- plot_keywords: string (nullable = true)\n",
      " |-- movie_imdb_link: string (nullable = true)\n",
      " |-- num_user_for_reviews: string (nullable = true)\n",
      " |-- language: string (nullable = true)\n",
      " |-- country: string (nullable = true)\n",
      " |-- content_rating: string (nullable = true)\n",
      " |-- budget: string (nullable = true)\n",
      " |-- title_year: string (nullable = true)\n",
      " |-- actor_2_facebook_likes: string (nullable = true)\n",
      " |-- imdb_score: string (nullable = true)\n",
      " |-- aspect_ratio: string (nullable = true)\n",
      " |-- movie_facebook_likes: string (nullable = true)\n",
      "\n"
     ]
    }
   ],
   "source": [
    "dataframe = spark.createDataFrame(data, schema)\n",
    "dataframe.printSchema()"
   ]
  },
  {
   "cell_type": "code",
   "execution_count": 6,
   "id": "07efe6c6",
   "metadata": {},
   "outputs": [
    {
     "data": {
      "text/plain": [
       "['color',\n",
       " 'director_name',\n",
       " 'num_critic_for_reviews',\n",
       " 'duration',\n",
       " 'director_facebook_likes',\n",
       " 'actor_3_facebook_likes',\n",
       " 'actor_2_name',\n",
       " 'actor_1_facebook_likes',\n",
       " 'gross',\n",
       " 'genres',\n",
       " 'actor_1_name',\n",
       " 'movie_title',\n",
       " 'num_voted_users',\n",
       " 'cast_total_facebook_likes',\n",
       " 'actor_3_name',\n",
       " 'facenumber_in_poster',\n",
       " 'plot_keywords',\n",
       " 'movie_imdb_link',\n",
       " 'num_user_for_reviews',\n",
       " 'language',\n",
       " 'country',\n",
       " 'content_rating',\n",
       " 'budget',\n",
       " 'title_year',\n",
       " 'actor_2_facebook_likes',\n",
       " 'imdb_score',\n",
       " 'aspect_ratio',\n",
       " 'movie_facebook_likes']"
      ]
     },
     "execution_count": 6,
     "metadata": {},
     "output_type": "execute_result"
    }
   ],
   "source": [
    "dataframe.columns"
   ]
  },
  {
   "cell_type": "code",
   "execution_count": 7,
   "id": "717b14ec",
   "metadata": {
    "scrolled": false
   },
   "outputs": [],
   "source": [
    "#new_dataframe = dataframe.select([\"director_name\", \"movie_title\", \"title_year\"])\n",
    "#new_dataframe.show()"
   ]
  },
  {
   "cell_type": "code",
   "execution_count": 8,
   "id": "eda2a0e5",
   "metadata": {},
   "outputs": [
    {
     "data": {
      "text/html": [
       "<div>\n",
       "<style scoped>\n",
       "    .dataframe tbody tr th:only-of-type {\n",
       "        vertical-align: middle;\n",
       "    }\n",
       "\n",
       "    .dataframe tbody tr th {\n",
       "        vertical-align: top;\n",
       "    }\n",
       "\n",
       "    .dataframe thead th {\n",
       "        text-align: right;\n",
       "    }\n",
       "</style>\n",
       "<table border=\"1\" class=\"dataframe\">\n",
       "  <thead>\n",
       "    <tr style=\"text-align: right;\">\n",
       "      <th></th>\n",
       "      <th>_id</th>\n",
       "      <th>color</th>\n",
       "      <th>director_name</th>\n",
       "      <th>num_critic_for_reviews</th>\n",
       "      <th>duration</th>\n",
       "      <th>director_facebook_likes</th>\n",
       "      <th>actor_3_facebook_likes</th>\n",
       "      <th>actor_2_name</th>\n",
       "      <th>actor_1_facebook_likes</th>\n",
       "      <th>gross</th>\n",
       "      <th>...</th>\n",
       "      <th>num_user_for_reviews</th>\n",
       "      <th>language</th>\n",
       "      <th>country</th>\n",
       "      <th>content_rating</th>\n",
       "      <th>budget</th>\n",
       "      <th>title_year</th>\n",
       "      <th>actor_2_facebook_likes</th>\n",
       "      <th>imdb_score</th>\n",
       "      <th>aspect_ratio</th>\n",
       "      <th>movie_facebook_likes</th>\n",
       "    </tr>\n",
       "  </thead>\n",
       "  <tbody>\n",
       "    <tr>\n",
       "      <th>0</th>\n",
       "      <td>645e8cc0eedcb5092c686234</td>\n",
       "      <td>Color</td>\n",
       "      <td>James Cameron</td>\n",
       "      <td>723</td>\n",
       "      <td>178</td>\n",
       "      <td>0</td>\n",
       "      <td>855</td>\n",
       "      <td>Joel David Moore</td>\n",
       "      <td>1000</td>\n",
       "      <td>760505847</td>\n",
       "      <td>...</td>\n",
       "      <td>3054</td>\n",
       "      <td>English</td>\n",
       "      <td>USA</td>\n",
       "      <td>PG-13</td>\n",
       "      <td>237000000</td>\n",
       "      <td>2009</td>\n",
       "      <td>936</td>\n",
       "      <td>7.9</td>\n",
       "      <td>1.78</td>\n",
       "      <td>33000</td>\n",
       "    </tr>\n",
       "    <tr>\n",
       "      <th>1</th>\n",
       "      <td>645e8cc0eedcb5092c686235</td>\n",
       "      <td>Color</td>\n",
       "      <td>Gore Verbinski</td>\n",
       "      <td>302</td>\n",
       "      <td>169</td>\n",
       "      <td>563</td>\n",
       "      <td>1000</td>\n",
       "      <td>Orlando Bloom</td>\n",
       "      <td>40000</td>\n",
       "      <td>309404152</td>\n",
       "      <td>...</td>\n",
       "      <td>1238</td>\n",
       "      <td>English</td>\n",
       "      <td>USA</td>\n",
       "      <td>PG-13</td>\n",
       "      <td>300000000</td>\n",
       "      <td>2007</td>\n",
       "      <td>5000</td>\n",
       "      <td>7.1</td>\n",
       "      <td>2.35</td>\n",
       "      <td>0</td>\n",
       "    </tr>\n",
       "    <tr>\n",
       "      <th>2</th>\n",
       "      <td>645e8cc0eedcb5092c686236</td>\n",
       "      <td>Color</td>\n",
       "      <td>Sam Mendes</td>\n",
       "      <td>602</td>\n",
       "      <td>148</td>\n",
       "      <td>0</td>\n",
       "      <td>161</td>\n",
       "      <td>Rory Kinnear</td>\n",
       "      <td>11000</td>\n",
       "      <td>200074175</td>\n",
       "      <td>...</td>\n",
       "      <td>994</td>\n",
       "      <td>English</td>\n",
       "      <td>UK</td>\n",
       "      <td>PG-13</td>\n",
       "      <td>245000000</td>\n",
       "      <td>2015</td>\n",
       "      <td>393</td>\n",
       "      <td>6.8</td>\n",
       "      <td>2.35</td>\n",
       "      <td>85000</td>\n",
       "    </tr>\n",
       "    <tr>\n",
       "      <th>3</th>\n",
       "      <td>645e8cc0eedcb5092c686237</td>\n",
       "      <td>Color</td>\n",
       "      <td>Christopher Nolan</td>\n",
       "      <td>813</td>\n",
       "      <td>164</td>\n",
       "      <td>22000</td>\n",
       "      <td>23000</td>\n",
       "      <td>Christian Bale</td>\n",
       "      <td>27000</td>\n",
       "      <td>448130642</td>\n",
       "      <td>...</td>\n",
       "      <td>2701</td>\n",
       "      <td>English</td>\n",
       "      <td>USA</td>\n",
       "      <td>PG-13</td>\n",
       "      <td>250000000</td>\n",
       "      <td>2012</td>\n",
       "      <td>23000</td>\n",
       "      <td>8.5</td>\n",
       "      <td>2.35</td>\n",
       "      <td>164000</td>\n",
       "    </tr>\n",
       "    <tr>\n",
       "      <th>4</th>\n",
       "      <td>645e8cc0eedcb5092c686238</td>\n",
       "      <td>NaN</td>\n",
       "      <td>Doug Walker</td>\n",
       "      <td>NaN</td>\n",
       "      <td>NaN</td>\n",
       "      <td>131</td>\n",
       "      <td>NaN</td>\n",
       "      <td>Rob Walker</td>\n",
       "      <td>131</td>\n",
       "      <td>NaN</td>\n",
       "      <td>...</td>\n",
       "      <td>NaN</td>\n",
       "      <td>NaN</td>\n",
       "      <td>NaN</td>\n",
       "      <td>NaN</td>\n",
       "      <td>NaN</td>\n",
       "      <td>NaN</td>\n",
       "      <td>12</td>\n",
       "      <td>7.1</td>\n",
       "      <td>NaN</td>\n",
       "      <td>0</td>\n",
       "    </tr>\n",
       "  </tbody>\n",
       "</table>\n",
       "<p>5 rows × 28 columns</p>\n",
       "</div>"
      ],
      "text/plain": [
       "                        _id  color      director_name num_critic_for_reviews  \\\n",
       "0  645e8cc0eedcb5092c686234  Color      James Cameron                    723   \n",
       "1  645e8cc0eedcb5092c686235  Color     Gore Verbinski                    302   \n",
       "2  645e8cc0eedcb5092c686236  Color         Sam Mendes                    602   \n",
       "3  645e8cc0eedcb5092c686237  Color  Christopher Nolan                    813   \n",
       "4  645e8cc0eedcb5092c686238    NaN        Doug Walker                    NaN   \n",
       "\n",
       "  duration director_facebook_likes actor_3_facebook_likes      actor_2_name  \\\n",
       "0      178                       0                    855  Joel David Moore   \n",
       "1      169                     563                   1000     Orlando Bloom   \n",
       "2      148                       0                    161      Rory Kinnear   \n",
       "3      164                   22000                  23000    Christian Bale   \n",
       "4      NaN                     131                    NaN        Rob Walker   \n",
       "\n",
       "  actor_1_facebook_likes      gross  ... num_user_for_reviews language  \\\n",
       "0                   1000  760505847  ...                 3054  English   \n",
       "1                  40000  309404152  ...                 1238  English   \n",
       "2                  11000  200074175  ...                  994  English   \n",
       "3                  27000  448130642  ...                 2701  English   \n",
       "4                    131        NaN  ...                  NaN      NaN   \n",
       "\n",
       "  country content_rating     budget title_year actor_2_facebook_likes  \\\n",
       "0     USA          PG-13  237000000       2009                    936   \n",
       "1     USA          PG-13  300000000       2007                   5000   \n",
       "2      UK          PG-13  245000000       2015                    393   \n",
       "3     USA          PG-13  250000000       2012                  23000   \n",
       "4     NaN            NaN        NaN        NaN                     12   \n",
       "\n",
       "  imdb_score aspect_ratio movie_facebook_likes  \n",
       "0        7.9         1.78                33000  \n",
       "1        7.1         2.35                    0  \n",
       "2        6.8         2.35                85000  \n",
       "3        8.5         2.35               164000  \n",
       "4        7.1          NaN                    0  \n",
       "\n",
       "[5 rows x 28 columns]"
      ]
     },
     "execution_count": 8,
     "metadata": {},
     "output_type": "execute_result"
    }
   ],
   "source": [
    "data = db.getData()\n",
    "df = pd.DataFrame(list(data))\n",
    "df.head()"
   ]
  },
  {
   "cell_type": "code",
   "execution_count": 9,
   "id": "8c657135",
   "metadata": {},
   "outputs": [
    {
     "data": {
      "text/html": [
       "<div>\n",
       "<style scoped>\n",
       "    .dataframe tbody tr th:only-of-type {\n",
       "        vertical-align: middle;\n",
       "    }\n",
       "\n",
       "    .dataframe tbody tr th {\n",
       "        vertical-align: top;\n",
       "    }\n",
       "\n",
       "    .dataframe thead th {\n",
       "        text-align: right;\n",
       "    }\n",
       "</style>\n",
       "<table border=\"1\" class=\"dataframe\">\n",
       "  <thead>\n",
       "    <tr style=\"text-align: right;\">\n",
       "      <th></th>\n",
       "      <th>color</th>\n",
       "      <th>director_name</th>\n",
       "      <th>num_critic_for_reviews</th>\n",
       "      <th>duration</th>\n",
       "      <th>director_facebook_likes</th>\n",
       "      <th>actor_3_facebook_likes</th>\n",
       "      <th>actor_2_name</th>\n",
       "      <th>actor_1_facebook_likes</th>\n",
       "      <th>gross</th>\n",
       "      <th>genres</th>\n",
       "      <th>...</th>\n",
       "      <th>num_user_for_reviews</th>\n",
       "      <th>language</th>\n",
       "      <th>country</th>\n",
       "      <th>content_rating</th>\n",
       "      <th>budget</th>\n",
       "      <th>title_year</th>\n",
       "      <th>actor_2_facebook_likes</th>\n",
       "      <th>imdb_score</th>\n",
       "      <th>aspect_ratio</th>\n",
       "      <th>movie_facebook_likes</th>\n",
       "    </tr>\n",
       "  </thead>\n",
       "  <tbody>\n",
       "    <tr>\n",
       "      <th>0</th>\n",
       "      <td>Color</td>\n",
       "      <td>James Cameron</td>\n",
       "      <td>723</td>\n",
       "      <td>178</td>\n",
       "      <td>0</td>\n",
       "      <td>855</td>\n",
       "      <td>Joel David Moore</td>\n",
       "      <td>1000</td>\n",
       "      <td>760505847</td>\n",
       "      <td>Action|Adventure|Fantasy|Sci-Fi</td>\n",
       "      <td>...</td>\n",
       "      <td>3054</td>\n",
       "      <td>English</td>\n",
       "      <td>USA</td>\n",
       "      <td>PG-13</td>\n",
       "      <td>237000000</td>\n",
       "      <td>2009</td>\n",
       "      <td>936</td>\n",
       "      <td>7.9</td>\n",
       "      <td>1.78</td>\n",
       "      <td>33000</td>\n",
       "    </tr>\n",
       "    <tr>\n",
       "      <th>1</th>\n",
       "      <td>Color</td>\n",
       "      <td>Gore Verbinski</td>\n",
       "      <td>302</td>\n",
       "      <td>169</td>\n",
       "      <td>563</td>\n",
       "      <td>1000</td>\n",
       "      <td>Orlando Bloom</td>\n",
       "      <td>40000</td>\n",
       "      <td>309404152</td>\n",
       "      <td>Action|Adventure|Fantasy</td>\n",
       "      <td>...</td>\n",
       "      <td>1238</td>\n",
       "      <td>English</td>\n",
       "      <td>USA</td>\n",
       "      <td>PG-13</td>\n",
       "      <td>300000000</td>\n",
       "      <td>2007</td>\n",
       "      <td>5000</td>\n",
       "      <td>7.1</td>\n",
       "      <td>2.35</td>\n",
       "      <td>0</td>\n",
       "    </tr>\n",
       "    <tr>\n",
       "      <th>2</th>\n",
       "      <td>Color</td>\n",
       "      <td>Sam Mendes</td>\n",
       "      <td>602</td>\n",
       "      <td>148</td>\n",
       "      <td>0</td>\n",
       "      <td>161</td>\n",
       "      <td>Rory Kinnear</td>\n",
       "      <td>11000</td>\n",
       "      <td>200074175</td>\n",
       "      <td>Action|Adventure|Thriller</td>\n",
       "      <td>...</td>\n",
       "      <td>994</td>\n",
       "      <td>English</td>\n",
       "      <td>UK</td>\n",
       "      <td>PG-13</td>\n",
       "      <td>245000000</td>\n",
       "      <td>2015</td>\n",
       "      <td>393</td>\n",
       "      <td>6.8</td>\n",
       "      <td>2.35</td>\n",
       "      <td>85000</td>\n",
       "    </tr>\n",
       "    <tr>\n",
       "      <th>3</th>\n",
       "      <td>Color</td>\n",
       "      <td>Christopher Nolan</td>\n",
       "      <td>813</td>\n",
       "      <td>164</td>\n",
       "      <td>22000</td>\n",
       "      <td>23000</td>\n",
       "      <td>Christian Bale</td>\n",
       "      <td>27000</td>\n",
       "      <td>448130642</td>\n",
       "      <td>Action|Thriller</td>\n",
       "      <td>...</td>\n",
       "      <td>2701</td>\n",
       "      <td>English</td>\n",
       "      <td>USA</td>\n",
       "      <td>PG-13</td>\n",
       "      <td>250000000</td>\n",
       "      <td>2012</td>\n",
       "      <td>23000</td>\n",
       "      <td>8.5</td>\n",
       "      <td>2.35</td>\n",
       "      <td>164000</td>\n",
       "    </tr>\n",
       "    <tr>\n",
       "      <th>4</th>\n",
       "      <td>NaN</td>\n",
       "      <td>Doug Walker</td>\n",
       "      <td>NaN</td>\n",
       "      <td>NaN</td>\n",
       "      <td>131</td>\n",
       "      <td>NaN</td>\n",
       "      <td>Rob Walker</td>\n",
       "      <td>131</td>\n",
       "      <td>NaN</td>\n",
       "      <td>Documentary</td>\n",
       "      <td>...</td>\n",
       "      <td>NaN</td>\n",
       "      <td>NaN</td>\n",
       "      <td>NaN</td>\n",
       "      <td>NaN</td>\n",
       "      <td>NaN</td>\n",
       "      <td>NaN</td>\n",
       "      <td>12</td>\n",
       "      <td>7.1</td>\n",
       "      <td>NaN</td>\n",
       "      <td>0</td>\n",
       "    </tr>\n",
       "  </tbody>\n",
       "</table>\n",
       "<p>5 rows × 27 columns</p>\n",
       "</div>"
      ],
      "text/plain": [
       "   color      director_name num_critic_for_reviews duration  \\\n",
       "0  Color      James Cameron                    723      178   \n",
       "1  Color     Gore Verbinski                    302      169   \n",
       "2  Color         Sam Mendes                    602      148   \n",
       "3  Color  Christopher Nolan                    813      164   \n",
       "4    NaN        Doug Walker                    NaN      NaN   \n",
       "\n",
       "  director_facebook_likes actor_3_facebook_likes      actor_2_name  \\\n",
       "0                       0                    855  Joel David Moore   \n",
       "1                     563                   1000     Orlando Bloom   \n",
       "2                       0                    161      Rory Kinnear   \n",
       "3                   22000                  23000    Christian Bale   \n",
       "4                     131                    NaN        Rob Walker   \n",
       "\n",
       "  actor_1_facebook_likes      gross                           genres  ...  \\\n",
       "0                   1000  760505847  Action|Adventure|Fantasy|Sci-Fi  ...   \n",
       "1                  40000  309404152         Action|Adventure|Fantasy  ...   \n",
       "2                  11000  200074175        Action|Adventure|Thriller  ...   \n",
       "3                  27000  448130642                  Action|Thriller  ...   \n",
       "4                    131        NaN                      Documentary  ...   \n",
       "\n",
       "  num_user_for_reviews language country content_rating     budget title_year  \\\n",
       "0                 3054  English     USA          PG-13  237000000       2009   \n",
       "1                 1238  English     USA          PG-13  300000000       2007   \n",
       "2                  994  English      UK          PG-13  245000000       2015   \n",
       "3                 2701  English     USA          PG-13  250000000       2012   \n",
       "4                  NaN      NaN     NaN            NaN        NaN        NaN   \n",
       "\n",
       "  actor_2_facebook_likes imdb_score aspect_ratio movie_facebook_likes  \n",
       "0                    936        7.9         1.78                33000  \n",
       "1                   5000        7.1         2.35                    0  \n",
       "2                    393        6.8         2.35                85000  \n",
       "3                  23000        8.5         2.35               164000  \n",
       "4                     12        7.1          NaN                    0  \n",
       "\n",
       "[5 rows x 27 columns]"
      ]
     },
     "execution_count": 9,
     "metadata": {},
     "output_type": "execute_result"
    }
   ],
   "source": [
    "# removing the _id given by mongodb\n",
    "df = df.drop([\"_id\"], axis=\"columns\")\n",
    "df.head()"
   ]
  },
  {
   "cell_type": "code",
   "execution_count": 10,
   "id": "66fdc141",
   "metadata": {},
   "outputs": [
    {
     "data": {
      "text/plain": [
       "(5043, 27)"
      ]
     },
     "execution_count": 10,
     "metadata": {},
     "output_type": "execute_result"
    }
   ],
   "source": [
    "#getting the dimensions of the dataframe\n",
    "df.shape"
   ]
  },
  {
   "cell_type": "markdown",
   "id": "41b252a1",
   "metadata": {},
   "source": [
    "## 1. Understanding Data"
   ]
  },
  {
   "cell_type": "markdown",
   "id": "7243df9e",
   "metadata": {},
   "source": [
    "The dataset is related to movies which contains 5000 rows of data. this dataset contains multiple columns for which is common for getting a proper information about a movie like director_name, budget, gross, movie_title, imdb_score, etc. there are also other column that provide additional insight about the movie. This helps in finding the correlation between the multiple column that affects the performance of the movie"
   ]
  },
  {
   "cell_type": "code",
   "execution_count": 11,
   "id": "4dd6d909",
   "metadata": {},
   "outputs": [
    {
     "data": {
      "text/plain": [
       "Index(['color', 'director_name', 'num_critic_for_reviews', 'duration',\n",
       "       'director_facebook_likes', 'actor_3_facebook_likes', 'actor_2_name',\n",
       "       'actor_1_facebook_likes', 'gross', 'genres', 'actor_1_name',\n",
       "       'movie_title', 'num_voted_users', 'cast_total_facebook_likes',\n",
       "       'actor_3_name', 'plot_keywords', 'movie_imdb_link',\n",
       "       'num_user_for_reviews', 'language', 'country', 'content_rating',\n",
       "       'budget', 'title_year', 'actor_2_facebook_likes', 'imdb_score',\n",
       "       'aspect_ratio', 'movie_facebook_likes'],\n",
       "      dtype='object')"
      ]
     },
     "execution_count": 11,
     "metadata": {},
     "output_type": "execute_result"
    }
   ],
   "source": [
    "df.columns "
   ]
  },
  {
   "cell_type": "code",
   "execution_count": 12,
   "id": "8c68157a",
   "metadata": {},
   "outputs": [
    {
     "name": "stdout",
     "output_type": "stream",
     "text": [
      "Total Columns 27\n"
     ]
    }
   ],
   "source": [
    "\n",
    "print(\"Total Columns {}\".format(len(df.columns)))"
   ]
  },
  {
   "cell_type": "markdown",
   "id": "3c505118",
   "metadata": {},
   "source": [
    "### Column Description\n",
    "\n",
    "There are atotal of 27 column in this dataset. As all the columns are not needed for the analysis so, some of the column are going to be dropped and specific column are to be used. A brief description is given below:\n",
    "\n",
    "- **color** Refers to the color of the film or movie.\n",
    "- **director_name** Refers to the name of the director who directed the movie.\n",
    "- **num_critic_for_reviews** Refers to the number of critical reviews the movie has received.\n",
    "- **duration**  Refers to the length of the movie in minutes.\n",
    "- **director_facebook_likes** Refers to the number of Facebook likes the director has.\n",
    "- **actor_3_facebook_likes** Refers to the number of Facebook likes the third actor in the movie has.\n",
    "- **actor_2_name** Refers to the name of the second actor in the movie.\n",
    "- **actor_1_facebook_likes** Refers to the number of Facebook likes the first actor in the movie has.\n",
    "- **gross** Refers to the total box office gross revenue of the movie.\n",
    "- **genres** Refers to the category or genre of the movie (e.g., action, comedy, drama).\n",
    "- **actor_1_name** Refers to the name of the first actor in the movie.\n",
    "- **movie_title** Refers to the title of the movie.\n",
    "- **num_voted_users** Refers to the number of users who have voted for the movie on IMDb.\n",
    "- **cast_total_facebook_likes** Refers to the total number of Facebook likes for all the actors in the movie.\n",
    "- **actor_3_name** Refers to the name of the third actor in the movie.\n",
    "- **movie facebook like** Refers to the number the number of facebook likw a movie has\n",
    "- **plot_keywords** Refers to the keywords used to describe the plot or storyline of the movie.\n",
    "- **movie_imdb_link** Refers to the URL of the movie on IMDb.\n",
    "- **num_user_for_reviews** Refers to the number of user reviews the movie has received on IMDb.\n",
    "- **language**  Refers to the language in which the movie is produced.\n",
    "- **country** Refers to the country where the movie was produced.\n",
    "- **content_rating** Refers to the rating of the movie based on its content (e.g., G, PG-13, R).\n",
    "- **budget** Refers to the budget of the movie.\n",
    "- **title_year** Refers to the year in which the movie was released.\n",
    "- **actor_2_facebook_likes** Refers to the number of Facebook likes the second actor in the movie has.\n",
    "- **imdb_score** Refers to the IMDb user rating of the movie.\n",
    "- **aspect_ratio** Refers to the ratio of the width to the height of the movie's aspect ratio.\n"
   ]
  },
  {
   "cell_type": "code",
   "execution_count": 13,
   "id": "946315ca",
   "metadata": {
    "scrolled": false
   },
   "outputs": [
    {
     "data": {
      "text/plain": [
       "color                        object\n",
       "director_name                object\n",
       "num_critic_for_reviews       object\n",
       "duration                     object\n",
       "director_facebook_likes      object\n",
       "actor_3_facebook_likes       object\n",
       "actor_2_name                 object\n",
       "actor_1_facebook_likes       object\n",
       "gross                        object\n",
       "genres                       object\n",
       "actor_1_name                 object\n",
       "movie_title                  object\n",
       "num_voted_users              object\n",
       "cast_total_facebook_likes    object\n",
       "actor_3_name                 object\n",
       "plot_keywords                object\n",
       "movie_imdb_link              object\n",
       "num_user_for_reviews         object\n",
       "language                     object\n",
       "country                      object\n",
       "content_rating               object\n",
       "budget                       object\n",
       "title_year                   object\n",
       "actor_2_facebook_likes       object\n",
       "imdb_score                   object\n",
       "aspect_ratio                 object\n",
       "movie_facebook_likes         object\n",
       "dtype: object"
      ]
     },
     "execution_count": 13,
     "metadata": {},
     "output_type": "execute_result"
    }
   ],
   "source": [
    "df.dtypes"
   ]
  },
  {
   "cell_type": "markdown",
   "id": "32f379b2",
   "metadata": {},
   "source": [
    "\n",
    "The dataset has only one type of data which is object"
   ]
  },
  {
   "cell_type": "code",
   "execution_count": 14,
   "id": "906b611f",
   "metadata": {
    "scrolled": false
   },
   "outputs": [
    {
     "data": {
      "text/plain": [
       "color                         19\n",
       "director_name                104\n",
       "num_critic_for_reviews        50\n",
       "duration                      15\n",
       "director_facebook_likes      104\n",
       "actor_3_facebook_likes        23\n",
       "actor_2_name                  13\n",
       "actor_1_facebook_likes         7\n",
       "gross                        884\n",
       "genres                         0\n",
       "actor_1_name                   7\n",
       "movie_title                    0\n",
       "num_voted_users                0\n",
       "cast_total_facebook_likes      0\n",
       "actor_3_name                  23\n",
       "plot_keywords                153\n",
       "movie_imdb_link                0\n",
       "num_user_for_reviews          21\n",
       "language                      12\n",
       "country                        5\n",
       "content_rating               303\n",
       "budget                       492\n",
       "title_year                   108\n",
       "actor_2_facebook_likes        13\n",
       "imdb_score                     0\n",
       "aspect_ratio                 329\n",
       "movie_facebook_likes           0\n",
       "dtype: int64"
      ]
     },
     "execution_count": 14,
     "metadata": {},
     "output_type": "execute_result"
    }
   ],
   "source": [
    "# checking for null values in the dataframe\n",
    "df.isna().sum() + df.eq('NULL').sum() + df.eq('').sum()"
   ]
  },
  {
   "cell_type": "markdown",
   "id": "da7e338d",
   "metadata": {},
   "source": [
    "### 2.Cleaning Data"
   ]
  },
  {
   "cell_type": "code",
   "execution_count": 16,
   "id": "fd6e007d",
   "metadata": {},
   "outputs": [
    {
     "data": {
      "text/html": [
       "<div>\n",
       "<style scoped>\n",
       "    .dataframe tbody tr th:only-of-type {\n",
       "        vertical-align: middle;\n",
       "    }\n",
       "\n",
       "    .dataframe tbody tr th {\n",
       "        vertical-align: top;\n",
       "    }\n",
       "\n",
       "    .dataframe thead th {\n",
       "        text-align: right;\n",
       "    }\n",
       "</style>\n",
       "<table border=\"1\" class=\"dataframe\">\n",
       "  <thead>\n",
       "    <tr style=\"text-align: right;\">\n",
       "      <th></th>\n",
       "      <th>director_name</th>\n",
       "      <th>num_critic_for_reviews</th>\n",
       "      <th>duration</th>\n",
       "      <th>director_facebook_likes</th>\n",
       "      <th>actor_3_facebook_likes</th>\n",
       "      <th>actor_2_name</th>\n",
       "      <th>actor_1_facebook_likes</th>\n",
       "      <th>gross</th>\n",
       "      <th>genres</th>\n",
       "      <th>actor_1_name</th>\n",
       "      <th>...</th>\n",
       "      <th>num_user_for_reviews</th>\n",
       "      <th>language</th>\n",
       "      <th>country</th>\n",
       "      <th>content_rating</th>\n",
       "      <th>budget</th>\n",
       "      <th>title_year</th>\n",
       "      <th>actor_2_facebook_likes</th>\n",
       "      <th>imdb_score</th>\n",
       "      <th>aspect_ratio</th>\n",
       "      <th>movie_facebook_likes</th>\n",
       "    </tr>\n",
       "  </thead>\n",
       "  <tbody>\n",
       "    <tr>\n",
       "      <th>0</th>\n",
       "      <td>James Cameron</td>\n",
       "      <td>723</td>\n",
       "      <td>178</td>\n",
       "      <td>0</td>\n",
       "      <td>855</td>\n",
       "      <td>Joel David Moore</td>\n",
       "      <td>1000</td>\n",
       "      <td>760505847</td>\n",
       "      <td>Action|Adventure|Fantasy|Sci-Fi</td>\n",
       "      <td>CCH Pounder</td>\n",
       "      <td>...</td>\n",
       "      <td>3054</td>\n",
       "      <td>English</td>\n",
       "      <td>USA</td>\n",
       "      <td>PG-13</td>\n",
       "      <td>237000000</td>\n",
       "      <td>2009</td>\n",
       "      <td>936</td>\n",
       "      <td>7.9</td>\n",
       "      <td>1.78</td>\n",
       "      <td>33000</td>\n",
       "    </tr>\n",
       "    <tr>\n",
       "      <th>1</th>\n",
       "      <td>Gore Verbinski</td>\n",
       "      <td>302</td>\n",
       "      <td>169</td>\n",
       "      <td>563</td>\n",
       "      <td>1000</td>\n",
       "      <td>Orlando Bloom</td>\n",
       "      <td>40000</td>\n",
       "      <td>309404152</td>\n",
       "      <td>Action|Adventure|Fantasy</td>\n",
       "      <td>Johnny Depp</td>\n",
       "      <td>...</td>\n",
       "      <td>1238</td>\n",
       "      <td>English</td>\n",
       "      <td>USA</td>\n",
       "      <td>PG-13</td>\n",
       "      <td>300000000</td>\n",
       "      <td>2007</td>\n",
       "      <td>5000</td>\n",
       "      <td>7.1</td>\n",
       "      <td>2.35</td>\n",
       "      <td>0</td>\n",
       "    </tr>\n",
       "    <tr>\n",
       "      <th>2</th>\n",
       "      <td>Sam Mendes</td>\n",
       "      <td>602</td>\n",
       "      <td>148</td>\n",
       "      <td>0</td>\n",
       "      <td>161</td>\n",
       "      <td>Rory Kinnear</td>\n",
       "      <td>11000</td>\n",
       "      <td>200074175</td>\n",
       "      <td>Action|Adventure|Thriller</td>\n",
       "      <td>Christoph Waltz</td>\n",
       "      <td>...</td>\n",
       "      <td>994</td>\n",
       "      <td>English</td>\n",
       "      <td>UK</td>\n",
       "      <td>PG-13</td>\n",
       "      <td>245000000</td>\n",
       "      <td>2015</td>\n",
       "      <td>393</td>\n",
       "      <td>6.8</td>\n",
       "      <td>2.35</td>\n",
       "      <td>85000</td>\n",
       "    </tr>\n",
       "    <tr>\n",
       "      <th>3</th>\n",
       "      <td>Christopher Nolan</td>\n",
       "      <td>813</td>\n",
       "      <td>164</td>\n",
       "      <td>22000</td>\n",
       "      <td>23000</td>\n",
       "      <td>Christian Bale</td>\n",
       "      <td>27000</td>\n",
       "      <td>448130642</td>\n",
       "      <td>Action|Thriller</td>\n",
       "      <td>Tom Hardy</td>\n",
       "      <td>...</td>\n",
       "      <td>2701</td>\n",
       "      <td>English</td>\n",
       "      <td>USA</td>\n",
       "      <td>PG-13</td>\n",
       "      <td>250000000</td>\n",
       "      <td>2012</td>\n",
       "      <td>23000</td>\n",
       "      <td>8.5</td>\n",
       "      <td>2.35</td>\n",
       "      <td>164000</td>\n",
       "    </tr>\n",
       "    <tr>\n",
       "      <th>4</th>\n",
       "      <td>Doug Walker</td>\n",
       "      <td>NaN</td>\n",
       "      <td>NaN</td>\n",
       "      <td>131</td>\n",
       "      <td>NaN</td>\n",
       "      <td>Rob Walker</td>\n",
       "      <td>131</td>\n",
       "      <td>NaN</td>\n",
       "      <td>Documentary</td>\n",
       "      <td>Doug Walker</td>\n",
       "      <td>...</td>\n",
       "      <td>NaN</td>\n",
       "      <td>NaN</td>\n",
       "      <td>NaN</td>\n",
       "      <td>NaN</td>\n",
       "      <td>NaN</td>\n",
       "      <td>NaN</td>\n",
       "      <td>12</td>\n",
       "      <td>7.1</td>\n",
       "      <td>NaN</td>\n",
       "      <td>0</td>\n",
       "    </tr>\n",
       "  </tbody>\n",
       "</table>\n",
       "<p>5 rows × 24 columns</p>\n",
       "</div>"
      ],
      "text/plain": [
       "       director_name num_critic_for_reviews duration director_facebook_likes  \\\n",
       "0      James Cameron                    723      178                       0   \n",
       "1     Gore Verbinski                    302      169                     563   \n",
       "2         Sam Mendes                    602      148                       0   \n",
       "3  Christopher Nolan                    813      164                   22000   \n",
       "4        Doug Walker                    NaN      NaN                     131   \n",
       "\n",
       "  actor_3_facebook_likes      actor_2_name actor_1_facebook_likes      gross  \\\n",
       "0                    855  Joel David Moore                   1000  760505847   \n",
       "1                   1000     Orlando Bloom                  40000  309404152   \n",
       "2                    161      Rory Kinnear                  11000  200074175   \n",
       "3                  23000    Christian Bale                  27000  448130642   \n",
       "4                    NaN        Rob Walker                    131        NaN   \n",
       "\n",
       "                            genres     actor_1_name  ... num_user_for_reviews  \\\n",
       "0  Action|Adventure|Fantasy|Sci-Fi      CCH Pounder  ...                 3054   \n",
       "1         Action|Adventure|Fantasy      Johnny Depp  ...                 1238   \n",
       "2        Action|Adventure|Thriller  Christoph Waltz  ...                  994   \n",
       "3                  Action|Thriller        Tom Hardy  ...                 2701   \n",
       "4                      Documentary      Doug Walker  ...                  NaN   \n",
       "\n",
       "  language country content_rating     budget title_year  \\\n",
       "0  English     USA          PG-13  237000000       2009   \n",
       "1  English     USA          PG-13  300000000       2007   \n",
       "2  English      UK          PG-13  245000000       2015   \n",
       "3  English     USA          PG-13  250000000       2012   \n",
       "4      NaN     NaN            NaN        NaN        NaN   \n",
       "\n",
       "  actor_2_facebook_likes imdb_score aspect_ratio movie_facebook_likes  \n",
       "0                    936        7.9         1.78                33000  \n",
       "1                   5000        7.1         2.35                    0  \n",
       "2                    393        6.8         2.35                85000  \n",
       "3                  23000        8.5         2.35               164000  \n",
       "4                     12        7.1          NaN                    0  \n",
       "\n",
       "[5 rows x 24 columns]"
      ]
     },
     "execution_count": 16,
     "metadata": {},
     "output_type": "execute_result"
    }
   ],
   "source": [
    "# creating a copy of the dataframe\n",
    "dataframe = df.copy()\n",
    "# replacing the NULL string and other empty string values with NaN\n",
    "dataframe = dataframe.replace(['NULL', '', 'Nan'], np.nan)\n",
    "# dropping the columns\n",
    "dataframe = dataframe.drop([\"color\", \"plot_keywords\", \"movie_imdb_link\"], axis=1)\n",
    "# displaying the first few rows of the modified dataframe\n",
    "dataframe.head()"
   ]
  },
  {
   "cell_type": "code",
   "execution_count": 17,
   "id": "722dd8c5",
   "metadata": {
    "scrolled": false
   },
   "outputs": [
    {
     "data": {
      "text/plain": [
       "director_name                104\n",
       "num_critic_for_reviews         0\n",
       "duration                       0\n",
       "director_facebook_likes        0\n",
       "actor_3_facebook_likes         0\n",
       "actor_2_name                  13\n",
       "actor_1_facebook_likes         0\n",
       "gross                          0\n",
       "genres                         0\n",
       "actor_1_name                   7\n",
       "movie_title                    0\n",
       "num_voted_users                0\n",
       "cast_total_facebook_likes      0\n",
       "actor_3_name                  23\n",
       "num_user_for_reviews           0\n",
       "language                       0\n",
       "country                        0\n",
       "content_rating                 0\n",
       "budget                         0\n",
       "title_year                     0\n",
       "actor_2_facebook_likes         0\n",
       "imdb_score                     0\n",
       "aspect_ratio                   0\n",
       "movie_facebook_likes           0\n",
       "dtype: int64"
      ]
     },
     "execution_count": 17,
     "metadata": {},
     "output_type": "execute_result"
    }
   ],
   "source": [
    "# getting all the columns from the dataset where the garbage value count > 0\n",
    "cols = [col for col in dataframe.columns if col not in [\"director_name\", \"actor_1_name\",\"actor_3_name\",\"actor_2_name\"] and dataframe[col].isna().sum() > 0]\n",
    "\n",
    "# filling all the columns with the highest recurring data, except for column1 and column2\n",
    "for col in cols:\n",
    "    highest_recurring = dataframe[col].mode()[0]\n",
    "    dataframe[col] = dataframe[col].fillna(highest_recurring)\n",
    "\n",
    "dataframe.isna().sum()\n"
   ]
  },
  {
   "cell_type": "code",
   "execution_count": null,
   "id": "202cbc02",
   "metadata": {},
   "outputs": [],
   "source": [
    "dataframe.drop_duplicates(inplace=True)\n",
    "dataframe.shape"
   ]
  },
  {
   "cell_type": "code",
   "execution_count": 21,
   "id": "4a22d6ec",
   "metadata": {
    "scrolled": false
   },
   "outputs": [
    {
     "data": {
      "text/plain": [
       "<AxesSubplot:xlabel='country'>"
      ]
     },
     "execution_count": 21,
     "metadata": {},
     "output_type": "execute_result"
    },
    {
     "data": {
      "image/png": "[encoded data removed]",
      "text/plain": [
       "<Figure size 432x288 with 1 Axes>"
      ]
     },
     "metadata": {
      "needs_background": "light"
     },
     "output_type": "display_data"
    }
   ],
   "source": [
    "dataframe['budget'] = dataframe['budget'].astype(float)\n",
    "dataframe['imdb_score'] = dataframe['imdb_score'].astype(float)\n",
    "\n",
    "non_english_movies = dataframe.loc[(dataframe.language != 'English') & (dataframe.budget < 10000000.0)]\n",
    "country_scores = non_english_movies.groupby('country').imdb_score.mean()\n",
    "country_scores.sort_values(ascending=False).plot.bar()"
   ]
  },
  {
   "cell_type": "code",
   "execution_count": 22,
   "id": "5c7b0672",
   "metadata": {},
   "outputs": [],
   "source": [
    "dataframe['genres_num'] = dataframe.genres.apply(lambda x: len(x.split('|')))\n"
   ]
  },
  {
   "cell_type": "code",
   "execution_count": 23,
   "id": "0420ec27",
   "metadata": {},
   "outputs": [
    {
     "data": {
      "text/plain": [
       "8"
      ]
     },
     "execution_count": 23,
     "metadata": {},
     "output_type": "execute_result"
    }
   ],
   "source": [
    "dataframe['genres_num'].max()\n"
   ]
  },
  {
   "cell_type": "code",
   "execution_count": 24,
   "id": "283db41a",
   "metadata": {},
   "outputs": [
    {
     "data": {
      "text/html": [
       "<div>\n",
       "<style scoped>\n",
       "    .dataframe tbody tr th:only-of-type {\n",
       "        vertical-align: middle;\n",
       "    }\n",
       "\n",
       "    .dataframe tbody tr th {\n",
       "        vertical-align: top;\n",
       "    }\n",
       "\n",
       "    .dataframe thead th {\n",
       "        text-align: right;\n",
       "    }\n",
       "</style>\n",
       "<table border=\"1\" class=\"dataframe\">\n",
       "  <thead>\n",
       "    <tr style=\"text-align: right;\">\n",
       "      <th></th>\n",
       "      <th>director_name</th>\n",
       "      <th>num_critic_for_reviews</th>\n",
       "      <th>duration</th>\n",
       "      <th>director_facebook_likes</th>\n",
       "      <th>actor_3_facebook_likes</th>\n",
       "      <th>actor_2_name</th>\n",
       "      <th>actor_1_facebook_likes</th>\n",
       "      <th>gross</th>\n",
       "      <th>genres</th>\n",
       "      <th>actor_1_name</th>\n",
       "      <th>...</th>\n",
       "      <th>country</th>\n",
       "      <th>content_rating</th>\n",
       "      <th>budget</th>\n",
       "      <th>title_year</th>\n",
       "      <th>actor_2_facebook_likes</th>\n",
       "      <th>imdb_score</th>\n",
       "      <th>aspect_ratio</th>\n",
       "      <th>movie_facebook_likes</th>\n",
       "      <th>genres_num</th>\n",
       "      <th>Type_of_genres</th>\n",
       "    </tr>\n",
       "  </thead>\n",
       "  <tbody>\n",
       "    <tr>\n",
       "      <th>0</th>\n",
       "      <td>James Cameron</td>\n",
       "      <td>723</td>\n",
       "      <td>178</td>\n",
       "      <td>0</td>\n",
       "      <td>855</td>\n",
       "      <td>Joel David Moore</td>\n",
       "      <td>1000</td>\n",
       "      <td>760505847</td>\n",
       "      <td>Action|Adventure|Fantasy|Sci-Fi</td>\n",
       "      <td>CCH Pounder</td>\n",
       "      <td>...</td>\n",
       "      <td>USA</td>\n",
       "      <td>PG-13</td>\n",
       "      <td>237000000.0</td>\n",
       "      <td>2009</td>\n",
       "      <td>936</td>\n",
       "      <td>7.9</td>\n",
       "      <td>1.78</td>\n",
       "      <td>33000</td>\n",
       "      <td>4</td>\n",
       "      <td>Action,Adventure,Fantasy,Sci-Fi</td>\n",
       "    </tr>\n",
       "    <tr>\n",
       "      <th>1</th>\n",
       "      <td>Gore Verbinski</td>\n",
       "      <td>302</td>\n",
       "      <td>169</td>\n",
       "      <td>563</td>\n",
       "      <td>1000</td>\n",
       "      <td>Orlando Bloom</td>\n",
       "      <td>40000</td>\n",
       "      <td>309404152</td>\n",
       "      <td>Action|Adventure|Fantasy</td>\n",
       "      <td>Johnny Depp</td>\n",
       "      <td>...</td>\n",
       "      <td>USA</td>\n",
       "      <td>PG-13</td>\n",
       "      <td>300000000.0</td>\n",
       "      <td>2007</td>\n",
       "      <td>5000</td>\n",
       "      <td>7.1</td>\n",
       "      <td>2.35</td>\n",
       "      <td>0</td>\n",
       "      <td>3</td>\n",
       "      <td>Action,Adventure,Fantasy</td>\n",
       "    </tr>\n",
       "  </tbody>\n",
       "</table>\n",
       "<p>2 rows × 26 columns</p>\n",
       "</div>"
      ],
      "text/plain": [
       "    director_name num_critic_for_reviews duration director_facebook_likes  \\\n",
       "0   James Cameron                    723      178                       0   \n",
       "1  Gore Verbinski                    302      169                     563   \n",
       "\n",
       "  actor_3_facebook_likes      actor_2_name actor_1_facebook_likes      gross  \\\n",
       "0                    855  Joel David Moore                   1000  760505847   \n",
       "1                   1000     Orlando Bloom                  40000  309404152   \n",
       "\n",
       "                            genres actor_1_name  ... country content_rating  \\\n",
       "0  Action|Adventure|Fantasy|Sci-Fi  CCH Pounder  ...     USA          PG-13   \n",
       "1         Action|Adventure|Fantasy  Johnny Depp  ...     USA          PG-13   \n",
       "\n",
       "        budget title_year actor_2_facebook_likes imdb_score aspect_ratio  \\\n",
       "0  237000000.0       2009                    936        7.9         1.78   \n",
       "1  300000000.0       2007                   5000        7.1         2.35   \n",
       "\n",
       "  movie_facebook_likes  genres_num                   Type_of_genres  \n",
       "0                33000           4  Action,Adventure,Fantasy,Sci-Fi  \n",
       "1                    0           3         Action,Adventure,Fantasy  \n",
       "\n",
       "[2 rows x 26 columns]"
      ]
     },
     "execution_count": 24,
     "metadata": {},
     "output_type": "execute_result"
    }
   ],
   "source": [
    "dataframe['Type_of_genres'] = dataframe.genres.apply(lambda x: x.replace('|',','))\n",
    "dataframe.head(2)"
   ]
  },
  {
   "cell_type": "code",
   "execution_count": 25,
   "id": "041f6f48",
   "metadata": {
    "scrolled": false
   },
   "outputs": [
    {
     "data": {
      "text/html": [
       "<div>\n",
       "<style scoped>\n",
       "    .dataframe tbody tr th:only-of-type {\n",
       "        vertical-align: middle;\n",
       "    }\n",
       "\n",
       "    .dataframe tbody tr th {\n",
       "        vertical-align: top;\n",
       "    }\n",
       "\n",
       "    .dataframe thead th {\n",
       "        text-align: right;\n",
       "    }\n",
       "</style>\n",
       "<table border=\"1\" class=\"dataframe\">\n",
       "  <thead>\n",
       "    <tr style=\"text-align: right;\">\n",
       "      <th></th>\n",
       "      <th>director_name</th>\n",
       "      <th>num_critic_for_reviews</th>\n",
       "      <th>duration</th>\n",
       "      <th>director_facebook_likes</th>\n",
       "      <th>actor_3_facebook_likes</th>\n",
       "      <th>actor_2_name</th>\n",
       "      <th>actor_1_facebook_likes</th>\n",
       "      <th>gross</th>\n",
       "      <th>genres</th>\n",
       "      <th>actor_1_name</th>\n",
       "      <th>...</th>\n",
       "      <th>content_rating</th>\n",
       "      <th>budget</th>\n",
       "      <th>title_year</th>\n",
       "      <th>actor_2_facebook_likes</th>\n",
       "      <th>imdb_score</th>\n",
       "      <th>aspect_ratio</th>\n",
       "      <th>movie_facebook_likes</th>\n",
       "      <th>genres_num</th>\n",
       "      <th>Type_of_genres</th>\n",
       "      <th>genres_first</th>\n",
       "    </tr>\n",
       "  </thead>\n",
       "  <tbody>\n",
       "    <tr>\n",
       "      <th>0</th>\n",
       "      <td>James Cameron</td>\n",
       "      <td>723</td>\n",
       "      <td>178</td>\n",
       "      <td>0</td>\n",
       "      <td>855</td>\n",
       "      <td>Joel David Moore</td>\n",
       "      <td>1000</td>\n",
       "      <td>760505847</td>\n",
       "      <td>Action|Adventure|Fantasy|Sci-Fi</td>\n",
       "      <td>CCH Pounder</td>\n",
       "      <td>...</td>\n",
       "      <td>PG-13</td>\n",
       "      <td>237000000.0</td>\n",
       "      <td>2009</td>\n",
       "      <td>936</td>\n",
       "      <td>7.9</td>\n",
       "      <td>1.78</td>\n",
       "      <td>33000</td>\n",
       "      <td>4</td>\n",
       "      <td>Action,Adventure,Fantasy,Sci-Fi</td>\n",
       "      <td>Action</td>\n",
       "    </tr>\n",
       "    <tr>\n",
       "      <th>1</th>\n",
       "      <td>Gore Verbinski</td>\n",
       "      <td>302</td>\n",
       "      <td>169</td>\n",
       "      <td>563</td>\n",
       "      <td>1000</td>\n",
       "      <td>Orlando Bloom</td>\n",
       "      <td>40000</td>\n",
       "      <td>309404152</td>\n",
       "      <td>Action|Adventure|Fantasy</td>\n",
       "      <td>Johnny Depp</td>\n",
       "      <td>...</td>\n",
       "      <td>PG-13</td>\n",
       "      <td>300000000.0</td>\n",
       "      <td>2007</td>\n",
       "      <td>5000</td>\n",
       "      <td>7.1</td>\n",
       "      <td>2.35</td>\n",
       "      <td>0</td>\n",
       "      <td>3</td>\n",
       "      <td>Action,Adventure,Fantasy</td>\n",
       "      <td>Action</td>\n",
       "    </tr>\n",
       "    <tr>\n",
       "      <th>2</th>\n",
       "      <td>Sam Mendes</td>\n",
       "      <td>602</td>\n",
       "      <td>148</td>\n",
       "      <td>0</td>\n",
       "      <td>161</td>\n",
       "      <td>Rory Kinnear</td>\n",
       "      <td>11000</td>\n",
       "      <td>200074175</td>\n",
       "      <td>Action|Adventure|Thriller</td>\n",
       "      <td>Christoph Waltz</td>\n",
       "      <td>...</td>\n",
       "      <td>PG-13</td>\n",
       "      <td>245000000.0</td>\n",
       "      <td>2015</td>\n",
       "      <td>393</td>\n",
       "      <td>6.8</td>\n",
       "      <td>2.35</td>\n",
       "      <td>85000</td>\n",
       "      <td>3</td>\n",
       "      <td>Action,Adventure,Thriller</td>\n",
       "      <td>Action</td>\n",
       "    </tr>\n",
       "    <tr>\n",
       "      <th>3</th>\n",
       "      <td>Christopher Nolan</td>\n",
       "      <td>813</td>\n",
       "      <td>164</td>\n",
       "      <td>22000</td>\n",
       "      <td>23000</td>\n",
       "      <td>Christian Bale</td>\n",
       "      <td>27000</td>\n",
       "      <td>448130642</td>\n",
       "      <td>Action|Thriller</td>\n",
       "      <td>Tom Hardy</td>\n",
       "      <td>...</td>\n",
       "      <td>PG-13</td>\n",
       "      <td>250000000.0</td>\n",
       "      <td>2012</td>\n",
       "      <td>23000</td>\n",
       "      <td>8.5</td>\n",
       "      <td>2.35</td>\n",
       "      <td>164000</td>\n",
       "      <td>2</td>\n",
       "      <td>Action,Thriller</td>\n",
       "      <td>Action</td>\n",
       "    </tr>\n",
       "    <tr>\n",
       "      <th>4</th>\n",
       "      <td>Doug Walker</td>\n",
       "      <td>1</td>\n",
       "      <td>90</td>\n",
       "      <td>131</td>\n",
       "      <td>1000</td>\n",
       "      <td>Rob Walker</td>\n",
       "      <td>131</td>\n",
       "      <td>144512310</td>\n",
       "      <td>Documentary</td>\n",
       "      <td>Doug Walker</td>\n",
       "      <td>...</td>\n",
       "      <td>R</td>\n",
       "      <td>20000000.0</td>\n",
       "      <td>2009</td>\n",
       "      <td>12</td>\n",
       "      <td>7.1</td>\n",
       "      <td>2.35</td>\n",
       "      <td>0</td>\n",
       "      <td>1</td>\n",
       "      <td>Documentary</td>\n",
       "      <td>Documentary</td>\n",
       "    </tr>\n",
       "  </tbody>\n",
       "</table>\n",
       "<p>5 rows × 27 columns</p>\n",
       "</div>"
      ],
      "text/plain": [
       "       director_name num_critic_for_reviews duration director_facebook_likes  \\\n",
       "0      James Cameron                    723      178                       0   \n",
       "1     Gore Verbinski                    302      169                     563   \n",
       "2         Sam Mendes                    602      148                       0   \n",
       "3  Christopher Nolan                    813      164                   22000   \n",
       "4        Doug Walker                      1       90                     131   \n",
       "\n",
       "  actor_3_facebook_likes      actor_2_name actor_1_facebook_likes      gross  \\\n",
       "0                    855  Joel David Moore                   1000  760505847   \n",
       "1                   1000     Orlando Bloom                  40000  309404152   \n",
       "2                    161      Rory Kinnear                  11000  200074175   \n",
       "3                  23000    Christian Bale                  27000  448130642   \n",
       "4                   1000        Rob Walker                    131  144512310   \n",
       "\n",
       "                            genres     actor_1_name  ... content_rating  \\\n",
       "0  Action|Adventure|Fantasy|Sci-Fi      CCH Pounder  ...          PG-13   \n",
       "1         Action|Adventure|Fantasy      Johnny Depp  ...          PG-13   \n",
       "2        Action|Adventure|Thriller  Christoph Waltz  ...          PG-13   \n",
       "3                  Action|Thriller        Tom Hardy  ...          PG-13   \n",
       "4                      Documentary      Doug Walker  ...              R   \n",
       "\n",
       "        budget title_year actor_2_facebook_likes imdb_score aspect_ratio  \\\n",
       "0  237000000.0       2009                    936        7.9         1.78   \n",
       "1  300000000.0       2007                   5000        7.1         2.35   \n",
       "2  245000000.0       2015                    393        6.8         2.35   \n",
       "3  250000000.0       2012                  23000        8.5         2.35   \n",
       "4   20000000.0       2009                     12        7.1         2.35   \n",
       "\n",
       "  movie_facebook_likes genres_num                   Type_of_genres  \\\n",
       "0                33000          4  Action,Adventure,Fantasy,Sci-Fi   \n",
       "1                    0          3         Action,Adventure,Fantasy   \n",
       "2                85000          3        Action,Adventure,Thriller   \n",
       "3               164000          2                  Action,Thriller   \n",
       "4                    0          1                      Documentary   \n",
       "\n",
       "  genres_first  \n",
       "0       Action  \n",
       "1       Action  \n",
       "2       Action  \n",
       "3       Action  \n",
       "4  Documentary  \n",
       "\n",
       "[5 rows x 27 columns]"
      ]
     },
     "execution_count": 25,
     "metadata": {},
     "output_type": "execute_result"
    }
   ],
   "source": [
    "dataframe['genres_first'] = dataframe.genres.apply(lambda x: x.split('|')[0] if '|' in x else x)\n",
    "dataframe.head()"
   ]
  },
  {
   "cell_type": "code",
   "execution_count": 26,
   "id": "e74efee5",
   "metadata": {
    "scrolled": false
   },
   "outputs": [
    {
     "data": {
      "text/plain": [
       "<AxesSubplot:xlabel='imdb_score', ylabel='genres_first'>"
      ]
     },
     "execution_count": 26,
     "metadata": {},
     "output_type": "execute_result"
    },
    {
     "data": {
      "image/png": "[encoded data removed]",
      "text/plain": [
       "<Figure size 1008x720 with 1 Axes>"
      ]
     },
     "metadata": {
      "needs_background": "light"
     },
     "output_type": "display_data"
    }
   ],
   "source": [
    "plt.figure(figsize=(14,10))\n",
    "sns.boxplot(x='imdb_score',y='genres_first',data=dataframe)"
   ]
  },
  {
   "cell_type": "code",
   "execution_count": 27,
   "id": "4e7f7927",
   "metadata": {
    "scrolled": false
   },
   "outputs": [
    {
     "data": {
      "text/plain": [
       "<AxesSubplot:>"
      ]
     },
     "execution_count": 27,
     "metadata": {},
     "output_type": "execute_result"
    },
    {
     "data": {
      "image/png": "[encoded data removed]",
      "text/plain": [
       "<Figure size 1080x1080 with 2 Axes>"
      ]
     },
     "metadata": {
      "needs_background": "light"
     },
     "output_type": "display_data"
    }
   ],
   "source": [
    "correlations = dataframe.corr()\n",
    "f,ax = plt.subplots(figsize=(15,15))\n",
    "sns.heatmap(correlations, annot=True, cmap=\"YlGnBu\", linewidths=.5)"
   ]
  },
  {
   "cell_type": "code",
   "execution_count": 28,
   "id": "51e7190d",
   "metadata": {},
   "outputs": [],
   "source": [
    "higest_impact = dataframe[['num_critic_for_reviews','duration','director_facebook_likes','num_voted_users','num_user_for_reviews']]"
   ]
  },
  {
   "cell_type": "code",
   "execution_count": 29,
   "id": "0b241fdc",
   "metadata": {
    "scrolled": false
   },
   "outputs": [
    {
     "data": {
      "text/html": [
       "<div>\n",
       "<style scoped>\n",
       "    .dataframe tbody tr th:only-of-type {\n",
       "        vertical-align: middle;\n",
       "    }\n",
       "\n",
       "    .dataframe tbody tr th {\n",
       "        vertical-align: top;\n",
       "    }\n",
       "\n",
       "    .dataframe thead th {\n",
       "        text-align: right;\n",
       "    }\n",
       "</style>\n",
       "<table border=\"1\" class=\"dataframe\">\n",
       "  <thead>\n",
       "    <tr style=\"text-align: right;\">\n",
       "      <th></th>\n",
       "      <th>imdb_score</th>\n",
       "    </tr>\n",
       "    <tr>\n",
       "      <th>genres_first</th>\n",
       "      <th></th>\n",
       "    </tr>\n",
       "  </thead>\n",
       "  <tbody>\n",
       "    <tr>\n",
       "      <th>Film-Noir</th>\n",
       "      <td>7.600000</td>\n",
       "    </tr>\n",
       "    <tr>\n",
       "      <th>History</th>\n",
       "      <td>7.500000</td>\n",
       "    </tr>\n",
       "    <tr>\n",
       "      <th>Music</th>\n",
       "      <td>7.200000</td>\n",
       "    </tr>\n",
       "    <tr>\n",
       "      <th>Documentary</th>\n",
       "      <td>7.167857</td>\n",
       "    </tr>\n",
       "    <tr>\n",
       "      <th>Biography</th>\n",
       "      <td>7.158964</td>\n",
       "    </tr>\n",
       "    <tr>\n",
       "      <th>Crime</th>\n",
       "      <td>6.903746</td>\n",
       "    </tr>\n",
       "    <tr>\n",
       "      <th>Drama</th>\n",
       "      <td>6.765208</td>\n",
       "    </tr>\n",
       "    <tr>\n",
       "      <th>Animation</th>\n",
       "      <td>6.631148</td>\n",
       "    </tr>\n",
       "    <tr>\n",
       "      <th>Western</th>\n",
       "      <td>6.583333</td>\n",
       "    </tr>\n",
       "    <tr>\n",
       "      <th>Mystery</th>\n",
       "      <td>6.551515</td>\n",
       "    </tr>\n",
       "    <tr>\n",
       "      <th>Adventure</th>\n",
       "      <td>6.531556</td>\n",
       "    </tr>\n",
       "    <tr>\n",
       "      <th>Fantasy</th>\n",
       "      <td>6.433333</td>\n",
       "    </tr>\n",
       "    <tr>\n",
       "      <th>Action</th>\n",
       "      <td>6.236570</td>\n",
       "    </tr>\n",
       "    <tr>\n",
       "      <th>Comedy</th>\n",
       "      <td>6.196818</td>\n",
       "    </tr>\n",
       "    <tr>\n",
       "      <th>Musical</th>\n",
       "      <td>6.000000</td>\n",
       "    </tr>\n",
       "    <tr>\n",
       "      <th>Sci-Fi</th>\n",
       "      <td>6.000000</td>\n",
       "    </tr>\n",
       "    <tr>\n",
       "      <th>Romance</th>\n",
       "      <td>5.883333</td>\n",
       "    </tr>\n",
       "    <tr>\n",
       "      <th>Family</th>\n",
       "      <td>5.709091</td>\n",
       "    </tr>\n",
       "    <tr>\n",
       "      <th>Horror</th>\n",
       "      <td>5.662996</td>\n",
       "    </tr>\n",
       "    <tr>\n",
       "      <th>Thriller</th>\n",
       "      <td>5.580952</td>\n",
       "    </tr>\n",
       "    <tr>\n",
       "      <th>Game-Show</th>\n",
       "      <td>2.900000</td>\n",
       "    </tr>\n",
       "  </tbody>\n",
       "</table>\n",
       "</div>"
      ],
      "text/plain": [
       "              imdb_score\n",
       "genres_first            \n",
       "Film-Noir       7.600000\n",
       "History         7.500000\n",
       "Music           7.200000\n",
       "Documentary     7.167857\n",
       "Biography       7.158964\n",
       "Crime           6.903746\n",
       "Drama           6.765208\n",
       "Animation       6.631148\n",
       "Western         6.583333\n",
       "Mystery         6.551515\n",
       "Adventure       6.531556\n",
       "Fantasy         6.433333\n",
       "Action          6.236570\n",
       "Comedy          6.196818\n",
       "Musical         6.000000\n",
       "Sci-Fi          6.000000\n",
       "Romance         5.883333\n",
       "Family          5.709091\n",
       "Horror          5.662996\n",
       "Thriller        5.580952\n",
       "Game-Show       2.900000"
      ]
     },
     "execution_count": 29,
     "metadata": {},
     "output_type": "execute_result"
    }
   ],
   "source": [
    "pd.pivot_table(dataframe,index='genres_first', values='imdb_score').sort_values('imdb_score', ascending = False)"
   ]
  },
  {
   "cell_type": "code",
   "execution_count": 30,
   "id": "b8b866bc",
   "metadata": {
    "scrolled": false
   },
   "outputs": [
    {
     "data": {
      "text/plain": [
       "<AxesSubplot:>"
      ]
     },
     "execution_count": 30,
     "metadata": {},
     "output_type": "execute_result"
    },
    {
     "data": {
      "image/png": "[encoded data removed]",
      "text/plain": [
       "<Figure size 1440x1440 with 1 Axes>"
      ]
     },
     "metadata": {
      "needs_background": "light"
     },
     "output_type": "display_data"
    }
   ],
   "source": [
    "dataframe.title_year.value_counts(dropna=True).sort_index().plot(kind='barh',figsize=(20,20),color='g')"
   ]
  },
  {
   "cell_type": "code",
   "execution_count": 31,
   "id": "0b487eb3",
   "metadata": {
    "scrolled": false
   },
   "outputs": [
    {
     "data": {
      "text/plain": [
       "<AxesSubplot:>"
      ]
     },
     "execution_count": 31,
     "metadata": {},
     "output_type": "execute_result"
    },
    {
     "data": {
      "image/png": "[encoded data removed]",
      "text/plain": [
       "<Figure size 720x720 with 1 Axes>"
      ]
     },
     "metadata": {
      "needs_background": "light"
     },
     "output_type": "display_data"
    }
   ],
   "source": [
    "dataframe.genres_first.value_counts(dropna=True).sort_index().plot(kind='barh',figsize=(10,10),color='g')"
   ]
  },
  {
   "cell_type": "code",
   "execution_count": 32,
   "id": "49ab7090",
   "metadata": {
    "scrolled": false
   },
   "outputs": [
    {
     "data": {
      "text/plain": [
       "<AxesSubplot:>"
      ]
     },
     "execution_count": 32,
     "metadata": {},
     "output_type": "execute_result"
    },
    {
     "data": {
      "image/png": "[encoded data removed]",
      "text/plain": [
       "<Figure size 1440x1440 with 1 Axes>"
      ]
     },
     "metadata": {
      "needs_background": "light"
     },
     "output_type": "display_data"
    }
   ],
   "source": [
    "dataframe.country.value_counts(dropna=True).sort_index().plot(kind='barh',figsize=(20,20),color='g')"
   ]
  },
  {
   "cell_type": "code",
   "execution_count": 33,
   "id": "b0f46b28",
   "metadata": {
    "scrolled": false
   },
   "outputs": [
    {
     "data": {
      "image/png": "[encoded data removed]",
      "text/plain": [
       "<Figure size 720x360 with 1 Axes>"
      ]
     },
     "metadata": {
      "needs_background": "light"
     },
     "output_type": "display_data"
    },
    {
     "data": {
      "image/png": "[encoded data removed]",
      "text/plain": [
       "<Figure size 720x360 with 1 Axes>"
      ]
     },
     "metadata": {
      "needs_background": "light"
     },
     "output_type": "display_data"
    },
    {
     "data": {
      "image/png": "[encoded data removed]",
      "text/plain": [
       "<Figure size 720x360 with 1 Axes>"
      ]
     },
     "metadata": {
      "needs_background": "light"
     },
     "output_type": "display_data"
    },
    {
     "data": {
      "image/png": "[encoded data removed]",
      "text/plain": [
       "<Figure size 720x360 with 1 Axes>"
      ]
     },
     "metadata": {
      "needs_background": "light"
     },
     "output_type": "display_data"
    },
    {
     "data": {
      "image/png": "[encoded data removed]",
      "text/plain": [
       "<Figure size 720x360 with 1 Axes>"
      ]
     },
     "metadata": {
      "needs_background": "light"
     },
     "output_type": "display_data"
    }
   ],
   "source": [
    "for i in higest_impact.columns:\n",
    "    dataframe[i] = dataframe[i].astype(float)\n",
    "    axis = dataframe.groupby('imdb_score')[[i]].mean().plot(figsize=(10,5),marker='o',color='g') "
   ]
  },
  {
   "cell_type": "code",
   "execution_count": 34,
   "id": "6de7fa34",
   "metadata": {},
   "outputs": [
    {
     "data": {
      "text/html": [
       "<div>\n",
       "<style scoped>\n",
       "    .dataframe tbody tr th:only-of-type {\n",
       "        vertical-align: middle;\n",
       "    }\n",
       "\n",
       "    .dataframe tbody tr th {\n",
       "        vertical-align: top;\n",
       "    }\n",
       "\n",
       "    .dataframe thead th {\n",
       "        text-align: right;\n",
       "    }\n",
       "</style>\n",
       "<table border=\"1\" class=\"dataframe\">\n",
       "  <thead>\n",
       "    <tr style=\"text-align: right;\">\n",
       "      <th></th>\n",
       "      <th>director_name</th>\n",
       "      <th>num_critic_for_reviews</th>\n",
       "      <th>duration</th>\n",
       "      <th>director_facebook_likes</th>\n",
       "      <th>actor_3_facebook_likes</th>\n",
       "      <th>actor_2_name</th>\n",
       "      <th>actor_1_facebook_likes</th>\n",
       "      <th>gross</th>\n",
       "      <th>genres</th>\n",
       "      <th>actor_1_name</th>\n",
       "      <th>...</th>\n",
       "      <th>content_rating</th>\n",
       "      <th>budget</th>\n",
       "      <th>title_year</th>\n",
       "      <th>actor_2_facebook_likes</th>\n",
       "      <th>imdb_score</th>\n",
       "      <th>aspect_ratio</th>\n",
       "      <th>movie_facebook_likes</th>\n",
       "      <th>genres_num</th>\n",
       "      <th>Type_of_genres</th>\n",
       "      <th>genres_first</th>\n",
       "    </tr>\n",
       "  </thead>\n",
       "  <tbody>\n",
       "    <tr>\n",
       "      <th>0</th>\n",
       "      <td>James Cameron</td>\n",
       "      <td>723.0</td>\n",
       "      <td>178.0</td>\n",
       "      <td>0.0</td>\n",
       "      <td>855</td>\n",
       "      <td>Joel David Moore</td>\n",
       "      <td>1000</td>\n",
       "      <td>760505847</td>\n",
       "      <td>Action|Adventure|Fantasy|Sci-Fi</td>\n",
       "      <td>CCH Pounder</td>\n",
       "      <td>...</td>\n",
       "      <td>PG-13</td>\n",
       "      <td>237000000.0</td>\n",
       "      <td>2009</td>\n",
       "      <td>936</td>\n",
       "      <td>7.9</td>\n",
       "      <td>1.78</td>\n",
       "      <td>33000</td>\n",
       "      <td>4</td>\n",
       "      <td>Action,Adventure,Fantasy,Sci-Fi</td>\n",
       "      <td>Action</td>\n",
       "    </tr>\n",
       "    <tr>\n",
       "      <th>1</th>\n",
       "      <td>Gore Verbinski</td>\n",
       "      <td>302.0</td>\n",
       "      <td>169.0</td>\n",
       "      <td>563.0</td>\n",
       "      <td>1000</td>\n",
       "      <td>Orlando Bloom</td>\n",
       "      <td>40000</td>\n",
       "      <td>309404152</td>\n",
       "      <td>Action|Adventure|Fantasy</td>\n",
       "      <td>Johnny Depp</td>\n",
       "      <td>...</td>\n",
       "      <td>PG-13</td>\n",
       "      <td>300000000.0</td>\n",
       "      <td>2007</td>\n",
       "      <td>5000</td>\n",
       "      <td>7.1</td>\n",
       "      <td>2.35</td>\n",
       "      <td>0</td>\n",
       "      <td>3</td>\n",
       "      <td>Action,Adventure,Fantasy</td>\n",
       "      <td>Action</td>\n",
       "    </tr>\n",
       "    <tr>\n",
       "      <th>2</th>\n",
       "      <td>Sam Mendes</td>\n",
       "      <td>602.0</td>\n",
       "      <td>148.0</td>\n",
       "      <td>0.0</td>\n",
       "      <td>161</td>\n",
       "      <td>Rory Kinnear</td>\n",
       "      <td>11000</td>\n",
       "      <td>200074175</td>\n",
       "      <td>Action|Adventure|Thriller</td>\n",
       "      <td>Christoph Waltz</td>\n",
       "      <td>...</td>\n",
       "      <td>PG-13</td>\n",
       "      <td>245000000.0</td>\n",
       "      <td>2015</td>\n",
       "      <td>393</td>\n",
       "      <td>6.8</td>\n",
       "      <td>2.35</td>\n",
       "      <td>85000</td>\n",
       "      <td>3</td>\n",
       "      <td>Action,Adventure,Thriller</td>\n",
       "      <td>Action</td>\n",
       "    </tr>\n",
       "    <tr>\n",
       "      <th>3</th>\n",
       "      <td>Christopher Nolan</td>\n",
       "      <td>813.0</td>\n",
       "      <td>164.0</td>\n",
       "      <td>22000.0</td>\n",
       "      <td>23000</td>\n",
       "      <td>Christian Bale</td>\n",
       "      <td>27000</td>\n",
       "      <td>448130642</td>\n",
       "      <td>Action|Thriller</td>\n",
       "      <td>Tom Hardy</td>\n",
       "      <td>...</td>\n",
       "      <td>PG-13</td>\n",
       "      <td>250000000.0</td>\n",
       "      <td>2012</td>\n",
       "      <td>23000</td>\n",
       "      <td>8.5</td>\n",
       "      <td>2.35</td>\n",
       "      <td>164000</td>\n",
       "      <td>2</td>\n",
       "      <td>Action,Thriller</td>\n",
       "      <td>Action</td>\n",
       "    </tr>\n",
       "    <tr>\n",
       "      <th>4</th>\n",
       "      <td>Doug Walker</td>\n",
       "      <td>1.0</td>\n",
       "      <td>90.0</td>\n",
       "      <td>131.0</td>\n",
       "      <td>1000</td>\n",
       "      <td>Rob Walker</td>\n",
       "      <td>131</td>\n",
       "      <td>144512310</td>\n",
       "      <td>Documentary</td>\n",
       "      <td>Doug Walker</td>\n",
       "      <td>...</td>\n",
       "      <td>R</td>\n",
       "      <td>20000000.0</td>\n",
       "      <td>2009</td>\n",
       "      <td>12</td>\n",
       "      <td>7.1</td>\n",
       "      <td>2.35</td>\n",
       "      <td>0</td>\n",
       "      <td>1</td>\n",
       "      <td>Documentary</td>\n",
       "      <td>Documentary</td>\n",
       "    </tr>\n",
       "  </tbody>\n",
       "</table>\n",
       "<p>5 rows × 27 columns</p>\n",
       "</div>"
      ],
      "text/plain": [
       "       director_name  num_critic_for_reviews  duration  \\\n",
       "0      James Cameron                   723.0     178.0   \n",
       "1     Gore Verbinski                   302.0     169.0   \n",
       "2         Sam Mendes                   602.0     148.0   \n",
       "3  Christopher Nolan                   813.0     164.0   \n",
       "4        Doug Walker                     1.0      90.0   \n",
       "\n",
       "   director_facebook_likes actor_3_facebook_likes      actor_2_name  \\\n",
       "0                      0.0                    855  Joel David Moore   \n",
       "1                    563.0                   1000     Orlando Bloom   \n",
       "2                      0.0                    161      Rory Kinnear   \n",
       "3                  22000.0                  23000    Christian Bale   \n",
       "4                    131.0                   1000        Rob Walker   \n",
       "\n",
       "  actor_1_facebook_likes      gross                           genres  \\\n",
       "0                   1000  760505847  Action|Adventure|Fantasy|Sci-Fi   \n",
       "1                  40000  309404152         Action|Adventure|Fantasy   \n",
       "2                  11000  200074175        Action|Adventure|Thriller   \n",
       "3                  27000  448130642                  Action|Thriller   \n",
       "4                    131  144512310                      Documentary   \n",
       "\n",
       "      actor_1_name  ... content_rating       budget title_year  \\\n",
       "0      CCH Pounder  ...          PG-13  237000000.0       2009   \n",
       "1      Johnny Depp  ...          PG-13  300000000.0       2007   \n",
       "2  Christoph Waltz  ...          PG-13  245000000.0       2015   \n",
       "3        Tom Hardy  ...          PG-13  250000000.0       2012   \n",
       "4      Doug Walker  ...              R   20000000.0       2009   \n",
       "\n",
       "  actor_2_facebook_likes  imdb_score aspect_ratio movie_facebook_likes  \\\n",
       "0                    936         7.9         1.78                33000   \n",
       "1                   5000         7.1         2.35                    0   \n",
       "2                    393         6.8         2.35                85000   \n",
       "3                  23000         8.5         2.35               164000   \n",
       "4                     12         7.1         2.35                    0   \n",
       "\n",
       "  genres_num                   Type_of_genres genres_first  \n",
       "0          4  Action,Adventure,Fantasy,Sci-Fi       Action  \n",
       "1          3         Action,Adventure,Fantasy       Action  \n",
       "2          3        Action,Adventure,Thriller       Action  \n",
       "3          2                  Action,Thriller       Action  \n",
       "4          1                      Documentary  Documentary  \n",
       "\n",
       "[5 rows x 27 columns]"
      ]
     },
     "execution_count": 34,
     "metadata": {},
     "output_type": "execute_result"
    }
   ],
   "source": [
    "dataframe.head()"
   ]
  },
  {
   "cell_type": "code",
   "execution_count": 35,
   "id": "c0d4e87f",
   "metadata": {},
   "outputs": [
    {
     "name": "stdout",
     "output_type": "stream",
     "text": [
      "USA         3778\n",
      "UK           443\n",
      "France       154\n",
      "Canada       124\n",
      "Germany       96\n",
      "            ... \n",
      "Chile          1\n",
      "Cambodia       1\n",
      "Georgia        1\n",
      "Kenya          1\n",
      "Bahamas        1\n",
      "Name: country, Length: 65, dtype: int64\n"
     ]
    }
   ],
   "source": [
    "#Value counts for the countries \n",
    "\n",
    "value_counts=dataframe[\"country\"].value_counts()\n",
    "print(value_counts)"
   ]
  },
  {
   "cell_type": "code",
   "execution_count": 36,
   "id": "25f53fba",
   "metadata": {},
   "outputs": [
    {
     "name": "stdout",
     "output_type": "stream",
     "text": [
      "Index(['USA', 'UK'], dtype='object')\n"
     ]
    }
   ],
   "source": [
    "##get top 2 values of index\n",
    "vals = value_counts[:2].index\n",
    "print (vals)\n",
    "dataframe['country'] = dataframe.country.where(dataframe.country.isin(vals), 'other')"
   ]
  },
  {
   "cell_type": "code",
   "execution_count": 37,
   "id": "0a6d726e",
   "metadata": {},
   "outputs": [
    {
     "data": {
      "text/plain": [
       "USA      3778\n",
       "other     777\n",
       "UK        443\n",
       "Name: country, dtype: int64"
      ]
     },
     "execution_count": 37,
     "metadata": {},
     "output_type": "execute_result"
    }
   ],
   "source": [
    "#Successfully divided the country into three catogories \n",
    "dataframe[\"country\"].value_counts()"
   ]
  },
  {
   "cell_type": "code",
   "execution_count": 38,
   "id": "b993d8ee",
   "metadata": {
    "scrolled": true
   },
   "outputs": [
    {
     "data": {
      "text/html": [
       "<div>\n",
       "<style scoped>\n",
       "    .dataframe tbody tr th:only-of-type {\n",
       "        vertical-align: middle;\n",
       "    }\n",
       "\n",
       "    .dataframe tbody tr th {\n",
       "        vertical-align: top;\n",
       "    }\n",
       "\n",
       "    .dataframe thead th {\n",
       "        text-align: right;\n",
       "    }\n",
       "</style>\n",
       "<table border=\"1\" class=\"dataframe\">\n",
       "  <thead>\n",
       "    <tr style=\"text-align: right;\">\n",
       "      <th></th>\n",
       "      <th>director_name</th>\n",
       "      <th>num_critic_for_reviews</th>\n",
       "      <th>duration</th>\n",
       "      <th>director_facebook_likes</th>\n",
       "      <th>actor_3_facebook_likes</th>\n",
       "      <th>actor_2_name</th>\n",
       "      <th>actor_1_facebook_likes</th>\n",
       "      <th>gross</th>\n",
       "      <th>genres</th>\n",
       "      <th>actor_1_name</th>\n",
       "      <th>...</th>\n",
       "      <th>content_rating</th>\n",
       "      <th>budget</th>\n",
       "      <th>title_year</th>\n",
       "      <th>actor_2_facebook_likes</th>\n",
       "      <th>imdb_score</th>\n",
       "      <th>aspect_ratio</th>\n",
       "      <th>movie_facebook_likes</th>\n",
       "      <th>genres_num</th>\n",
       "      <th>Type_of_genres</th>\n",
       "      <th>genres_first</th>\n",
       "    </tr>\n",
       "  </thead>\n",
       "  <tbody>\n",
       "    <tr>\n",
       "      <th>0</th>\n",
       "      <td>James Cameron</td>\n",
       "      <td>723.0</td>\n",
       "      <td>178.0</td>\n",
       "      <td>0.0</td>\n",
       "      <td>855</td>\n",
       "      <td>Joel David Moore</td>\n",
       "      <td>1000</td>\n",
       "      <td>760505847</td>\n",
       "      <td>Action|Adventure|Fantasy|Sci-Fi</td>\n",
       "      <td>CCH Pounder</td>\n",
       "      <td>...</td>\n",
       "      <td>PG-13</td>\n",
       "      <td>237000000.0</td>\n",
       "      <td>2009</td>\n",
       "      <td>936</td>\n",
       "      <td>7.9</td>\n",
       "      <td>1.78</td>\n",
       "      <td>33000</td>\n",
       "      <td>4</td>\n",
       "      <td>Action,Adventure,Fantasy,Sci-Fi</td>\n",
       "      <td>Action</td>\n",
       "    </tr>\n",
       "    <tr>\n",
       "      <th>1</th>\n",
       "      <td>Gore Verbinski</td>\n",
       "      <td>302.0</td>\n",
       "      <td>169.0</td>\n",
       "      <td>563.0</td>\n",
       "      <td>1000</td>\n",
       "      <td>Orlando Bloom</td>\n",
       "      <td>40000</td>\n",
       "      <td>309404152</td>\n",
       "      <td>Action|Adventure|Fantasy</td>\n",
       "      <td>Johnny Depp</td>\n",
       "      <td>...</td>\n",
       "      <td>PG-13</td>\n",
       "      <td>300000000.0</td>\n",
       "      <td>2007</td>\n",
       "      <td>5000</td>\n",
       "      <td>7.1</td>\n",
       "      <td>2.35</td>\n",
       "      <td>0</td>\n",
       "      <td>3</td>\n",
       "      <td>Action,Adventure,Fantasy</td>\n",
       "      <td>Action</td>\n",
       "    </tr>\n",
       "    <tr>\n",
       "      <th>2</th>\n",
       "      <td>Sam Mendes</td>\n",
       "      <td>602.0</td>\n",
       "      <td>148.0</td>\n",
       "      <td>0.0</td>\n",
       "      <td>161</td>\n",
       "      <td>Rory Kinnear</td>\n",
       "      <td>11000</td>\n",
       "      <td>200074175</td>\n",
       "      <td>Action|Adventure|Thriller</td>\n",
       "      <td>Christoph Waltz</td>\n",
       "      <td>...</td>\n",
       "      <td>PG-13</td>\n",
       "      <td>245000000.0</td>\n",
       "      <td>2015</td>\n",
       "      <td>393</td>\n",
       "      <td>6.8</td>\n",
       "      <td>2.35</td>\n",
       "      <td>85000</td>\n",
       "      <td>3</td>\n",
       "      <td>Action,Adventure,Thriller</td>\n",
       "      <td>Action</td>\n",
       "    </tr>\n",
       "    <tr>\n",
       "      <th>3</th>\n",
       "      <td>Christopher Nolan</td>\n",
       "      <td>813.0</td>\n",
       "      <td>164.0</td>\n",
       "      <td>22000.0</td>\n",
       "      <td>23000</td>\n",
       "      <td>Christian Bale</td>\n",
       "      <td>27000</td>\n",
       "      <td>448130642</td>\n",
       "      <td>Action|Thriller</td>\n",
       "      <td>Tom Hardy</td>\n",
       "      <td>...</td>\n",
       "      <td>PG-13</td>\n",
       "      <td>250000000.0</td>\n",
       "      <td>2012</td>\n",
       "      <td>23000</td>\n",
       "      <td>8.5</td>\n",
       "      <td>2.35</td>\n",
       "      <td>164000</td>\n",
       "      <td>2</td>\n",
       "      <td>Action,Thriller</td>\n",
       "      <td>Action</td>\n",
       "    </tr>\n",
       "    <tr>\n",
       "      <th>4</th>\n",
       "      <td>Doug Walker</td>\n",
       "      <td>1.0</td>\n",
       "      <td>90.0</td>\n",
       "      <td>131.0</td>\n",
       "      <td>1000</td>\n",
       "      <td>Rob Walker</td>\n",
       "      <td>131</td>\n",
       "      <td>144512310</td>\n",
       "      <td>Documentary</td>\n",
       "      <td>Doug Walker</td>\n",
       "      <td>...</td>\n",
       "      <td>R</td>\n",
       "      <td>20000000.0</td>\n",
       "      <td>2009</td>\n",
       "      <td>12</td>\n",
       "      <td>7.1</td>\n",
       "      <td>2.35</td>\n",
       "      <td>0</td>\n",
       "      <td>1</td>\n",
       "      <td>Documentary</td>\n",
       "      <td>Documentary</td>\n",
       "    </tr>\n",
       "  </tbody>\n",
       "</table>\n",
       "<p>5 rows × 27 columns</p>\n",
       "</div>"
      ],
      "text/plain": [
       "       director_name  num_critic_for_reviews  duration  \\\n",
       "0      James Cameron                   723.0     178.0   \n",
       "1     Gore Verbinski                   302.0     169.0   \n",
       "2         Sam Mendes                   602.0     148.0   \n",
       "3  Christopher Nolan                   813.0     164.0   \n",
       "4        Doug Walker                     1.0      90.0   \n",
       "\n",
       "   director_facebook_likes actor_3_facebook_likes      actor_2_name  \\\n",
       "0                      0.0                    855  Joel David Moore   \n",
       "1                    563.0                   1000     Orlando Bloom   \n",
       "2                      0.0                    161      Rory Kinnear   \n",
       "3                  22000.0                  23000    Christian Bale   \n",
       "4                    131.0                   1000        Rob Walker   \n",
       "\n",
       "  actor_1_facebook_likes      gross                           genres  \\\n",
       "0                   1000  760505847  Action|Adventure|Fantasy|Sci-Fi   \n",
       "1                  40000  309404152         Action|Adventure|Fantasy   \n",
       "2                  11000  200074175        Action|Adventure|Thriller   \n",
       "3                  27000  448130642                  Action|Thriller   \n",
       "4                    131  144512310                      Documentary   \n",
       "\n",
       "      actor_1_name  ... content_rating       budget title_year  \\\n",
       "0      CCH Pounder  ...          PG-13  237000000.0       2009   \n",
       "1      Johnny Depp  ...          PG-13  300000000.0       2007   \n",
       "2  Christoph Waltz  ...          PG-13  245000000.0       2015   \n",
       "3        Tom Hardy  ...          PG-13  250000000.0       2012   \n",
       "4      Doug Walker  ...              R   20000000.0       2009   \n",
       "\n",
       "  actor_2_facebook_likes  imdb_score aspect_ratio movie_facebook_likes  \\\n",
       "0                    936         7.9         1.78                33000   \n",
       "1                   5000         7.1         2.35                    0   \n",
       "2                    393         6.8         2.35                85000   \n",
       "3                  23000         8.5         2.35               164000   \n",
       "4                     12         7.1         2.35                    0   \n",
       "\n",
       "  genres_num                   Type_of_genres genres_first  \n",
       "0          4  Action,Adventure,Fantasy,Sci-Fi       Action  \n",
       "1          3         Action,Adventure,Fantasy       Action  \n",
       "2          3        Action,Adventure,Thriller       Action  \n",
       "3          2                  Action,Thriller       Action  \n",
       "4          1                      Documentary  Documentary  \n",
       "\n",
       "[5 rows x 27 columns]"
      ]
     },
     "execution_count": 38,
     "metadata": {},
     "output_type": "execute_result"
    }
   ],
   "source": [
    "dataframe.head()"
   ]
  },
  {
   "cell_type": "code",
   "execution_count": 39,
   "id": "3550bac5",
   "metadata": {},
   "outputs": [],
   "source": [
    "#Removing the director name column\n",
    "\n",
    "dataframe.drop('director_name', axis=1, inplace=True)"
   ]
  },
  {
   "cell_type": "code",
   "execution_count": 40,
   "id": "6373d1b7",
   "metadata": {},
   "outputs": [],
   "source": [
    "#Removing the actor1 ,actor 2 and actor 3 names \n",
    "\n",
    "dataframe.drop('actor_1_name',axis=1,inplace=True)\n",
    "dataframe.drop('actor_2_name',axis=1,inplace=True)\n",
    "dataframe.drop('actor_3_name',axis=1,inplace=True)"
   ]
  },
  {
   "cell_type": "code",
   "execution_count": 41,
   "id": "288fcb23",
   "metadata": {},
   "outputs": [],
   "source": [
    "#Dropping the movie title \n",
    "\n",
    "dataframe.drop('movie_title',axis=1,inplace=True)"
   ]
  },
  {
   "cell_type": "code",
   "execution_count": 42,
   "id": "613e9a2e",
   "metadata": {},
   "outputs": [
    {
     "data": {
      "text/plain": [
       "Drama                                         235\n",
       "Comedy                                        205\n",
       "Comedy|Drama                                  189\n",
       "Comedy|Drama|Romance                          187\n",
       "Comedy|Romance                                158\n",
       "                                             ... \n",
       "Adventure|Drama|Horror|Thriller                 1\n",
       "Action|Crime|Drama|Mystery|Sci-Fi|Thriller      1\n",
       "Comedy|Mystery|Sci-Fi|Thriller                  1\n",
       "Drama|Horror|Romance                            1\n",
       "Adventure|Animation|Drama|Family|Musical        1\n",
       "Name: genres, Length: 914, dtype: int64"
      ]
     },
     "execution_count": 42,
     "metadata": {},
     "output_type": "execute_result"
    }
   ],
   "source": [
    "#Value count of genres\n",
    "\n",
    "dataframe['genres'].value_counts()"
   ]
  },
  {
   "cell_type": "code",
   "execution_count": 43,
   "id": "565d9079",
   "metadata": {},
   "outputs": [],
   "source": [
    "#Most of the values are equally distributed in genres column ,so we can remove the genres column\n",
    "\n",
    "dataframe.drop('genres',axis=1,inplace =True)"
   ]
  },
  {
   "cell_type": "code",
   "execution_count": 44,
   "id": "f6553a5e",
   "metadata": {},
   "outputs": [
    {
     "data": {
      "image/png": "[encoded data removed]",
      "text/plain": [
       "<Figure size 936x504 with 2 Axes>"
      ]
     },
     "metadata": {
      "needs_background": "light"
     },
     "output_type": "display_data"
    }
   ],
   "source": [
    "# Correlation with heat map\n",
    "corr = dataframe.corr()\n",
    "sns.set_context(\"notebook\", font_scale=1.0, rc={\"lines.linewidth\": 2.5})\n",
    "plt.figure(figsize=(13,7))\n",
    "# create a mask so we only see the correlation values once\n",
    "mask = np.zeros_like(corr)\n",
    "mask[np.triu_indices_from(mask, 1)] = True\n",
    "a = sns.heatmap(corr,mask=mask, annot=True, fmt='.2f')\n",
    "rotx = a.set_xticklabels(a.get_xticklabels(), rotation=90)\n",
    "roty = a.set_yticklabels(a.get_yticklabels(), rotation=30)"
   ]
  },
  {
   "cell_type": "code",
   "execution_count": 45,
   "id": "b7da4009",
   "metadata": {},
   "outputs": [],
   "source": [
    "#Adding the facebook likes of actor 2 and actor 3 together \n",
    "dataframe['Other_actor_facebbok_likes']=dataframe[\"actor_2_facebook_likes\"] + dataframe['actor_3_facebook_likes']"
   ]
  },
  {
   "cell_type": "code",
   "execution_count": 46,
   "id": "43bae350",
   "metadata": {},
   "outputs": [],
   "source": [
    "#Dropping the actor 2 and actor 3 facebook likes columns as they have been added together \n",
    "\n",
    "dataframe.drop('actor_2_facebook_likes',axis=1,inplace=True)\n",
    "dataframe.drop('actor_3_facebook_likes',axis=1,inplace=True)\n",
    "dataframe.drop('cast_total_facebook_likes',axis=1,inplace=True)"
   ]
  },
  {
   "cell_type": "code",
   "execution_count": 47,
   "id": "259ea04c",
   "metadata": {},
   "outputs": [],
   "source": [
    "#Ratio of the ratio of num_user_for_reviews and num_critic_for_reviews.\n",
    "\n",
    "dataframe['critic_review_ratio']=dataframe['num_critic_for_reviews']/dataframe['num_user_for_reviews']"
   ]
  },
  {
   "cell_type": "code",
   "execution_count": 48,
   "id": "ef41ebd5",
   "metadata": {},
   "outputs": [],
   "source": [
    "#Dropping the num_critic_for_review\n",
    "\n",
    "dataframe.drop('num_critic_for_reviews',axis=1,inplace=True)\n",
    "dataframe.drop('num_user_for_reviews',axis=1,inplace=True)"
   ]
  },
  {
   "cell_type": "code",
   "execution_count": 49,
   "id": "7ee26728",
   "metadata": {},
   "outputs": [
    {
     "data": {
      "image/png": "[encoded data removed]",
      "text/plain": [
       "<Figure size 936x504 with 2 Axes>"
      ]
     },
     "metadata": {
      "needs_background": "light"
     },
     "output_type": "display_data"
    }
   ],
   "source": [
    "# New Correlation matrix shown in the figure \n",
    "corr = dataframe.corr()\n",
    "sns.set_context(\"notebook\", font_scale=1.0, rc={\"lines.linewidth\": 2.5})\n",
    "plt.figure(figsize=(13,7))\n",
    "# create a mask so we only see the correlation values once\n",
    "mask = np.zeros_like(corr)\n",
    "mask[np.triu_indices_from(mask, 1)] = True\n",
    "a = sns.heatmap(corr,mask=mask, annot=True, fmt='.2f')\n",
    "rotx = a.set_xticklabels(a.get_xticklabels(), rotation=90)\n",
    "roty = a.set_yticklabels(a.get_yticklabels(), rotation=30)"
   ]
  },
  {
   "cell_type": "code",
   "execution_count": 50,
   "id": "291f116d",
   "metadata": {},
   "outputs": [],
   "source": [
    "# We need to categorize the imdb values in the range of 0-4,4-6,6-8 and 8-10 to mark them as the bad,average,good and excellent movies respectively\n",
    "\n",
    "dataframe[\"imdb_binned_score\"]=pd.cut(dataframe['imdb_score'], bins=[0,4,6,8,10], right=True, labels=False)+1"
   ]
  },
  {
   "cell_type": "code",
   "execution_count": 51,
   "id": "2c38ac8f",
   "metadata": {},
   "outputs": [],
   "source": [
    "#Dropping the imdb_score column as it is being replaced with the imdb_binned_score values \n",
    "dataframe.drop('imdb_score',axis=1,inplace=True)"
   ]
  },
  {
   "cell_type": "code",
   "execution_count": 52,
   "id": "2a527edc",
   "metadata": {},
   "outputs": [
    {
     "data": {
      "text/html": [
       "<div>\n",
       "<style scoped>\n",
       "    .dataframe tbody tr th:only-of-type {\n",
       "        vertical-align: middle;\n",
       "    }\n",
       "\n",
       "    .dataframe tbody tr th {\n",
       "        vertical-align: top;\n",
       "    }\n",
       "\n",
       "    .dataframe thead th {\n",
       "        text-align: right;\n",
       "    }\n",
       "</style>\n",
       "<table border=\"1\" class=\"dataframe\">\n",
       "  <thead>\n",
       "    <tr style=\"text-align: right;\">\n",
       "      <th></th>\n",
       "      <th>duration</th>\n",
       "      <th>director_facebook_likes</th>\n",
       "      <th>actor_1_facebook_likes</th>\n",
       "      <th>gross</th>\n",
       "      <th>num_voted_users</th>\n",
       "      <th>language</th>\n",
       "      <th>country</th>\n",
       "      <th>content_rating</th>\n",
       "      <th>budget</th>\n",
       "      <th>title_year</th>\n",
       "      <th>aspect_ratio</th>\n",
       "      <th>movie_facebook_likes</th>\n",
       "      <th>genres_num</th>\n",
       "      <th>Type_of_genres</th>\n",
       "      <th>genres_first</th>\n",
       "      <th>Other_actor_facebbok_likes</th>\n",
       "      <th>critic_review_ratio</th>\n",
       "      <th>imdb_binned_score</th>\n",
       "    </tr>\n",
       "  </thead>\n",
       "  <tbody>\n",
       "    <tr>\n",
       "      <th>0</th>\n",
       "      <td>178.0</td>\n",
       "      <td>0.0</td>\n",
       "      <td>1000</td>\n",
       "      <td>760505847</td>\n",
       "      <td>886204.0</td>\n",
       "      <td>English</td>\n",
       "      <td>USA</td>\n",
       "      <td>PG-13</td>\n",
       "      <td>237000000.0</td>\n",
       "      <td>2009</td>\n",
       "      <td>1.78</td>\n",
       "      <td>33000</td>\n",
       "      <td>4</td>\n",
       "      <td>Action,Adventure,Fantasy,Sci-Fi</td>\n",
       "      <td>Action</td>\n",
       "      <td>936855</td>\n",
       "      <td>0.236739</td>\n",
       "      <td>3</td>\n",
       "    </tr>\n",
       "    <tr>\n",
       "      <th>1</th>\n",
       "      <td>169.0</td>\n",
       "      <td>563.0</td>\n",
       "      <td>40000</td>\n",
       "      <td>309404152</td>\n",
       "      <td>471220.0</td>\n",
       "      <td>English</td>\n",
       "      <td>USA</td>\n",
       "      <td>PG-13</td>\n",
       "      <td>300000000.0</td>\n",
       "      <td>2007</td>\n",
       "      <td>2.35</td>\n",
       "      <td>0</td>\n",
       "      <td>3</td>\n",
       "      <td>Action,Adventure,Fantasy</td>\n",
       "      <td>Action</td>\n",
       "      <td>50001000</td>\n",
       "      <td>0.243942</td>\n",
       "      <td>3</td>\n",
       "    </tr>\n",
       "    <tr>\n",
       "      <th>2</th>\n",
       "      <td>148.0</td>\n",
       "      <td>0.0</td>\n",
       "      <td>11000</td>\n",
       "      <td>200074175</td>\n",
       "      <td>275868.0</td>\n",
       "      <td>English</td>\n",
       "      <td>UK</td>\n",
       "      <td>PG-13</td>\n",
       "      <td>245000000.0</td>\n",
       "      <td>2015</td>\n",
       "      <td>2.35</td>\n",
       "      <td>85000</td>\n",
       "      <td>3</td>\n",
       "      <td>Action,Adventure,Thriller</td>\n",
       "      <td>Action</td>\n",
       "      <td>393161</td>\n",
       "      <td>0.605634</td>\n",
       "      <td>3</td>\n",
       "    </tr>\n",
       "    <tr>\n",
       "      <th>3</th>\n",
       "      <td>164.0</td>\n",
       "      <td>22000.0</td>\n",
       "      <td>27000</td>\n",
       "      <td>448130642</td>\n",
       "      <td>1144337.0</td>\n",
       "      <td>English</td>\n",
       "      <td>USA</td>\n",
       "      <td>PG-13</td>\n",
       "      <td>250000000.0</td>\n",
       "      <td>2012</td>\n",
       "      <td>2.35</td>\n",
       "      <td>164000</td>\n",
       "      <td>2</td>\n",
       "      <td>Action,Thriller</td>\n",
       "      <td>Action</td>\n",
       "      <td>2300023000</td>\n",
       "      <td>0.301000</td>\n",
       "      <td>4</td>\n",
       "    </tr>\n",
       "    <tr>\n",
       "      <th>4</th>\n",
       "      <td>90.0</td>\n",
       "      <td>131.0</td>\n",
       "      <td>131</td>\n",
       "      <td>144512310</td>\n",
       "      <td>8.0</td>\n",
       "      <td>English</td>\n",
       "      <td>USA</td>\n",
       "      <td>R</td>\n",
       "      <td>20000000.0</td>\n",
       "      <td>2009</td>\n",
       "      <td>2.35</td>\n",
       "      <td>0</td>\n",
       "      <td>1</td>\n",
       "      <td>Documentary</td>\n",
       "      <td>Documentary</td>\n",
       "      <td>121000</td>\n",
       "      <td>1.000000</td>\n",
       "      <td>3</td>\n",
       "    </tr>\n",
       "  </tbody>\n",
       "</table>\n",
       "</div>"
      ],
      "text/plain": [
       "   duration  director_facebook_likes actor_1_facebook_likes      gross  \\\n",
       "0     178.0                      0.0                   1000  760505847   \n",
       "1     169.0                    563.0                  40000  309404152   \n",
       "2     148.0                      0.0                  11000  200074175   \n",
       "3     164.0                  22000.0                  27000  448130642   \n",
       "4      90.0                    131.0                    131  144512310   \n",
       "\n",
       "   num_voted_users language country content_rating       budget title_year  \\\n",
       "0         886204.0  English     USA          PG-13  237000000.0       2009   \n",
       "1         471220.0  English     USA          PG-13  300000000.0       2007   \n",
       "2         275868.0  English      UK          PG-13  245000000.0       2015   \n",
       "3        1144337.0  English     USA          PG-13  250000000.0       2012   \n",
       "4              8.0  English     USA              R   20000000.0       2009   \n",
       "\n",
       "  aspect_ratio movie_facebook_likes  genres_num  \\\n",
       "0         1.78                33000           4   \n",
       "1         2.35                    0           3   \n",
       "2         2.35                85000           3   \n",
       "3         2.35               164000           2   \n",
       "4         2.35                    0           1   \n",
       "\n",
       "                    Type_of_genres genres_first Other_actor_facebbok_likes  \\\n",
       "0  Action,Adventure,Fantasy,Sci-Fi       Action                     936855   \n",
       "1         Action,Adventure,Fantasy       Action                   50001000   \n",
       "2        Action,Adventure,Thriller       Action                     393161   \n",
       "3                  Action,Thriller       Action                 2300023000   \n",
       "4                      Documentary  Documentary                     121000   \n",
       "\n",
       "   critic_review_ratio  imdb_binned_score  \n",
       "0             0.236739                  3  \n",
       "1             0.243942                  3  \n",
       "2             0.605634                  3  \n",
       "3             0.301000                  4  \n",
       "4             1.000000                  3  "
      ]
     },
     "execution_count": 52,
     "metadata": {},
     "output_type": "execute_result"
    }
   ],
   "source": [
    "dataframe.head(5)"
   ]
  },
  {
   "cell_type": "code",
   "execution_count": 53,
   "id": "b2844955",
   "metadata": {},
   "outputs": [],
   "source": [
    "dataframe = pd.get_dummies(data = dataframe, columns = ['country'] , prefix = ['country'] , drop_first = True)\n",
    "dataframe = pd.get_dummies(data = dataframe, columns = ['content_rating'] , prefix = ['content_rating'] , drop_first = True)"
   ]
  },
  {
   "cell_type": "code",
   "execution_count": 54,
   "id": "fc929962",
   "metadata": {},
   "outputs": [
    {
     "data": {
      "text/plain": [
       "Index(['duration', 'director_facebook_likes', 'actor_1_facebook_likes',\n",
       "       'gross', 'num_voted_users', 'language', 'budget', 'title_year',\n",
       "       'aspect_ratio', 'movie_facebook_likes', 'genres_num', 'Type_of_genres',\n",
       "       'genres_first', 'Other_actor_facebbok_likes', 'critic_review_ratio',\n",
       "       'imdb_binned_score', 'country_USA', 'country_other', 'content_rating_G',\n",
       "       'content_rating_GP', 'content_rating_M', 'content_rating_NC-17',\n",
       "       'content_rating_Not Rated', 'content_rating_PG', 'content_rating_PG-13',\n",
       "       'content_rating_Passed', 'content_rating_R', 'content_rating_TV-14',\n",
       "       'content_rating_TV-G', 'content_rating_TV-MA', 'content_rating_TV-PG',\n",
       "       'content_rating_TV-Y', 'content_rating_TV-Y7', 'content_rating_Unrated',\n",
       "       'content_rating_X'],\n",
       "      dtype='object')"
      ]
     },
     "execution_count": 54,
     "metadata": {},
     "output_type": "execute_result"
    }
   ],
   "source": [
    "dataframe.columns"
   ]
  },
  {
   "cell_type": "code",
   "execution_count": 55,
   "id": "2115ed5c",
   "metadata": {},
   "outputs": [],
   "source": [
    "X=pd.DataFrame(columns=['duration','director_facebook_likes','actor_1_facebook_likes','gross','num_voted_users',\n",
    "                        'budget','title_year','aspect_ratio','movie_facebook_likes',\n",
    "                        'Other_actor_facebbok_likes','critic_review_ratio','country_USA','country_other',\n",
    "                        'content_rating_G','content_rating_GP','content_rating_M','content_rating_NC-17',\n",
    "                        'content_rating_Not Rated','content_rating_PG','content_rating_PG-13','content_rating_Passed',\n",
    "                        'content_rating_R','content_rating_TV-14','content_rating_TV-G','content_rating_TV-PG',\n",
    "                        'content_rating_Unrated','content_rating_X'],data=dataframe)\n",
    "y=pd.DataFrame(columns=['imdb_binned_score'],data=dataframe)\n",
    "from sklearn.model_selection import train_test_split\n",
    "X_train, X_test, y_train, y_test=train_test_split(X,y,test_size=0.3,random_state=100)\n"
   ]
  },
  {
   "cell_type": "code",
   "execution_count": 56,
   "id": "ebc43951",
   "metadata": {},
   "outputs": [],
   "source": [
    "import numpy as np\n",
    "from sklearn.preprocessing import StandardScaler\n",
    "\n",
    "# Check for missing values in X_train\n",
    "if X_train.isnull().any().any():\n",
    "    # Handle missing values in X_train (e.g., replace with mean, median, etc.)\n",
    "    X_train.fillna(X_train.mean(), inplace=True)\n",
    "\n",
    "# Check for missing values in X_test\n",
    "if X_test.isnull().any().any():\n",
    "    # Handle missing values in X_test (e.g., replace with mean, median, etc.)\n",
    "    X_test.fillna(X_test.mean(), inplace=True)\n",
    "\n",
    "# Scale the data\n",
    "sc_X = StandardScaler()\n",
    "X_train = sc_X.fit_transform(X_train)\n",
    "X_test = sc_X.transform(X_test)\n"
   ]
  },
  {
   "cell_type": "code",
   "execution_count": 57,
   "id": "afb04233",
   "metadata": {
    "scrolled": true
   },
   "outputs": [
    {
     "name": "stdout",
     "output_type": "stream",
     "text": [
      "Missing values in X_train:\n",
      "Index([], dtype='object')\n",
      "Missing values in X_test:\n",
      "Index([], dtype='object')\n"
     ]
    }
   ],
   "source": [
    "import numpy as np\n",
    "\n",
    "# Check for missing values in X_train\n",
    "missing_values_train = np.isnan(X_train)\n",
    "missing_columns_train = np.any(missing_values_train, axis=0)\n",
    "\n",
    "# Check for missing values in X_test\n",
    "missing_values_test = np.isnan(X_test)\n",
    "missing_columns_test = np.any(missing_values_test, axis=0)\n",
    "\n",
    "# Print the columns with missing values in X_train\n",
    "print(\"Missing values in X_train:\")\n",
    "print(X.columns[missing_columns_train])\n",
    "\n",
    "# Print the columns with missing values in X_test\n",
    "print(\"Missing values in X_test:\")\n",
    "print(X.columns[missing_columns_test])\n"
   ]
  },
  {
   "cell_type": "code",
   "execution_count": 58,
   "id": "10d14fb2",
   "metadata": {},
   "outputs": [],
   "source": [
    "from sklearn.linear_model import LogisticRegression\n",
    "# Logistic Regression\n",
    "logit = LogisticRegression(max_iter=1000)  # Increase max_iter\n",
    "logit.fit(X_train, np.ravel(y_train, order='C'))\n",
    "y_pred = logit.predict(X_test)"
   ]
  },
  {
   "cell_type": "code",
   "execution_count": 59,
   "id": "1621fc54",
   "metadata": {},
   "outputs": [
    {
     "name": "stdout",
     "output_type": "stream",
     "text": [
      "[[  0  28  28   0]\n",
      " [  0 158 252   1]\n",
      " [  0 125 834   6]\n",
      " [  0   4  39  25]]\n",
      "Accuracy: 0.678\n"
     ]
    }
   ],
   "source": [
    "#Confusion matrix for logistic regression**\n",
    "\n",
    "from sklearn import metrics\n",
    "cnf_matrix = metrics.confusion_matrix(y_test, y_pred)\n",
    "print(cnf_matrix)\n",
    "\n",
    "print(\"Accuracy:\",metrics.accuracy_score(y_test, y_pred))"
   ]
  },
  {
   "cell_type": "code",
   "execution_count": 60,
   "id": "2038baee",
   "metadata": {},
   "outputs": [
    {
     "name": "stdout",
     "output_type": "stream",
     "text": [
      "[[  0  27  29   0]\n",
      " [  0 207 204   0]\n",
      " [  0 163 800   2]\n",
      " [  0   1  56  11]]\n",
      "Accuracy: 0.6786666666666666\n"
     ]
    }
   ],
   "source": [
    "#KNN \n",
    "from sklearn.neighbors import KNeighborsClassifier\n",
    "knn = KNeighborsClassifier(n_neighbors=22)\n",
    "knn.fit(X_train, np.ravel(y_train,order='C'))\n",
    "knnpred = knn.predict(X_test)\n",
    "cnf_matrix = metrics.confusion_matrix(y_test, knnpred)\n",
    "print(cnf_matrix)\n",
    "print(\"Accuracy:\",metrics.accuracy_score(y_test, knnpred))"
   ]
  },
  {
   "cell_type": "code",
   "execution_count": 61,
   "id": "c33b1729",
   "metadata": {},
   "outputs": [
    {
     "name": "stdout",
     "output_type": "stream",
     "text": [
      "[[  1  26  29   0]\n",
      " [  2 173 236   0]\n",
      " [  9 195 733  28]\n",
      " [  0  10  40  18]]\n",
      "Accuracy: 0.6166666666666667\n"
     ]
    }
   ],
   "source": [
    "#SVC\n",
    "from sklearn.svm import SVC\n",
    "svc= SVC(kernel = 'sigmoid')\n",
    "svc.fit(X_train, np.ravel(y_train,order='C'))\n",
    "svcpred = svc.predict(X_test)\n",
    "cnf_matrix = metrics.confusion_matrix(y_test, svcpred)\n",
    "print(cnf_matrix)\n",
    "print(\"Accuracy:\",metrics.accuracy_score(y_test, svcpred))"
   ]
  },
  {
   "cell_type": "code",
   "execution_count": 62,
   "id": "ff0b686d",
   "metadata": {},
   "outputs": [
    {
     "name": "stdout",
     "output_type": "stream",
     "text": [
      "[[  1  28  27   0]\n",
      " [  0 192 219   0]\n",
      " [  0  69 893   3]\n",
      " [  0   1  45  22]]\n",
      "Accuracy: 0.7386666666666667\n"
     ]
    }
   ],
   "source": [
    "#Random Forest\n",
    "\n",
    "from sklearn.ensemble import RandomForestClassifier\n",
    "rfc = RandomForestClassifier(n_estimators = 200)#criterion = entopy,gini\n",
    "rfc.fit(X_train, np.ravel(y_train,order='C'))\n",
    "rfcpred = rfc.predict(X_test)\n",
    "cnf_matrix = metrics.confusion_matrix(y_test, rfcpred)\n",
    "print(cnf_matrix)\n",
    "print(\"Accuracy:\",metrics.accuracy_score(y_test, rfcpred))"
   ]
  },
  {
   "cell_type": "code",
   "execution_count": 63,
   "id": "d9b758aa",
   "metadata": {},
   "outputs": [
    {
     "name": "stdout",
     "output_type": "stream",
     "text": [
      "Logistic Reports\n",
      "               precision    recall  f1-score   support\n",
      "\n",
      "           1       1.00      0.00      0.00        56\n",
      "           2       0.50      0.38      0.44       411\n",
      "           3       0.72      0.86      0.79       965\n",
      "           4       0.78      0.37      0.50        68\n",
      "\n",
      "    accuracy                           0.68      1500\n",
      "   macro avg       0.75      0.40      0.43      1500\n",
      "weighted avg       0.68      0.68      0.65      1500\n",
      "\n",
      "KNN Reports\n",
      "               precision    recall  f1-score   support\n",
      "\n",
      "           1       1.00      0.00      0.00        56\n",
      "           2       0.52      0.50      0.51       411\n",
      "           3       0.73      0.83      0.78       965\n",
      "           4       0.85      0.16      0.27        68\n",
      "\n",
      "    accuracy                           0.68      1500\n",
      "   macro avg       0.78      0.37      0.39      1500\n",
      "weighted avg       0.69      0.68      0.65      1500\n",
      "\n",
      "SVC Reports\n",
      "               precision    recall  f1-score   support\n",
      "\n",
      "           1       0.08      0.02      0.03        56\n",
      "           2       0.43      0.42      0.42       411\n",
      "           3       0.71      0.76      0.73       965\n",
      "           4       0.39      0.26      0.32        68\n",
      "\n",
      "    accuracy                           0.62      1500\n",
      "   macro avg       0.40      0.37      0.38      1500\n",
      "weighted avg       0.59      0.62      0.60      1500\n",
      "\n",
      "Random Forests Reports\n",
      "               precision    recall  f1-score   support\n",
      "\n",
      "           1       1.00      0.02      0.04        56\n",
      "           2       0.66      0.47      0.55       411\n",
      "           3       0.75      0.93      0.83       965\n",
      "           4       0.88      0.32      0.47        68\n",
      "\n",
      "    accuracy                           0.74      1500\n",
      "   macro avg       0.82      0.43      0.47      1500\n",
      "weighted avg       0.74      0.74      0.71      1500\n",
      "\n"
     ]
    }
   ],
   "source": [
    "from sklearn.metrics import classification_report\n",
    "\n",
    "print('Logistic Reports\\n', classification_report(y_test, y_pred, zero_division=1))\n",
    "print('KNN Reports\\n', classification_report(y_test, knnpred, zero_division=1))\n",
    "print('SVC Reports\\n', classification_report(y_test, svcpred, zero_division=1))\n",
    "print('Random Forests Reports\\n', classification_report(y_test, rfcpred, zero_division=1))"
   ]
  }
 ],
 "metadata": {
  "kernelspec": {
   "display_name": "Python 3",
   "language": "python",
   "name": "python3"
  },
  "language_info": {
   "codemirror_mode": {
    "name": "ipython",
    "version": 3
   },
   "file_extension": ".py",
   "mimetype": "text/x-python",
   "name": "python",
   "nbconvert_exporter": "python",
   "pygments_lexer": "ipython3",
   "version": "3.8.8"
  }
 },
 "nbformat": 4,
 "nbformat_minor": 5
}
